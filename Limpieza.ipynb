{
  "cells": [
    {
      "cell_type": "markdown",
      "id": "ef047872-c516-465e-bd71-df45ac4e409e",
      "metadata": {
        "id": "ef047872-c516-465e-bd71-df45ac4e409e"
      },
      "source": [
        "# **<center>Fase de exploracion</center>**"
      ]
    },
    {
      "cell_type": "markdown",
      "id": "0c183b90-0387-4c5b-83c5-59430b005608",
      "metadata": {
        "id": "0c183b90-0387-4c5b-83c5-59430b005608"
      },
      "source": [
        "## **Configuracion del entorno**"
      ]
    },
    {
      "cell_type": "code",
      "execution_count": 1,
      "id": "53128b4d-60cd-4545-8807-f94f87626755",
      "metadata": {
        "id": "53128b4d-60cd-4545-8807-f94f87626755"
      },
      "outputs": [],
      "source": [
        "import pandas as pd\n",
        "import matplotlib.pyplot as plt\n",
        "import seaborn as sns\n",
        "import numpy as np\n",
        "\n",
        "# URL del archivo en GitHub\n",
        "url = 'https://raw.githubusercontent.com/ipsilon7/Analisis-de-datos-de-IMDb/refs/heads/main/Database/IMDb%20database.csv'\n",
        "\n",
        "# Cargar el archivo CSV desde GitHub\n",
        "df = pd.read_csv(url)"
      ]
    },
    {
      "cell_type": "markdown",
      "id": "e33e18e6-5cdf-4e71-a91e-28f533931377",
      "metadata": {
        "id": "e33e18e6-5cdf-4e71-a91e-28f533931377"
      },
      "source": [
        "## **Analisis descriptivo del dataset**"
      ]
    },
    {
      "cell_type": "markdown",
      "source": [
        "El metodo «describe» muestra medidas estadísticas como la media, desviación estándar, percentiles, etc. Con el argumento include='all', incluiremos tanto variables numericas como categoricas.\n"
      ],
      "metadata": {
        "id": "DxTmT2KVMata"
      },
      "id": "DxTmT2KVMata"
    },
    {
      "cell_type": "code",
      "source": [
        "df.describe(include='all')"
      ],
      "metadata": {
        "id": "cOGvj1KnMW7O",
        "outputId": "d873697b-835d-4b72-f144-b83d690ff5a0",
        "colab": {
          "base_uri": "https://localhost:8080/",
          "height": 394
        }
      },
      "id": "cOGvj1KnMW7O",
      "execution_count": 2,
      "outputs": [
        {
          "output_type": "execute_result",
          "data": {
            "text/plain": [
              "               id    title     type  genres  averageRating      numVotes  \\\n",
              "count     1029446  1029446  1029446  928808  439071.000000  4.390710e+05   \n",
              "unique    1029446   877736        3    2061            NaN           NaN   \n",
              "top     tt0000009     Home    movie   Drama            NaN           NaN   \n",
              "freq            1       81   698393  162604            NaN           NaN   \n",
              "mean          NaN      NaN      NaN     NaN       6.363222  3.047632e+03   \n",
              "std           NaN      NaN      NaN     NaN       1.432179  3.266806e+04   \n",
              "min           NaN      NaN      NaN     NaN       1.000000  5.000000e+00   \n",
              "25%           NaN      NaN      NaN     NaN       5.500000  1.700000e+01   \n",
              "50%           NaN      NaN      NaN     NaN       6.500000  5.200000e+01   \n",
              "75%           NaN      NaN      NaN     NaN       7.400000  2.600000e+02   \n",
              "max           NaN      NaN      NaN     NaN      10.000000  2.963270e+06   \n",
              "\n",
              "          releaseYear  \n",
              "count   900924.000000  \n",
              "unique            NaN  \n",
              "top               NaN  \n",
              "freq              NaN  \n",
              "mean      1998.267213  \n",
              "std         27.054087  \n",
              "min       1894.000000  \n",
              "25%       1986.000000  \n",
              "50%       2010.000000  \n",
              "75%       2018.000000  \n",
              "max       2031.000000  "
            ],
            "text/html": [
              "\n",
              "  <div id=\"df-dcdcd78e-1086-4728-ac4b-8c9b731ee94c\" class=\"colab-df-container\">\n",
              "    <div>\n",
              "<style scoped>\n",
              "    .dataframe tbody tr th:only-of-type {\n",
              "        vertical-align: middle;\n",
              "    }\n",
              "\n",
              "    .dataframe tbody tr th {\n",
              "        vertical-align: top;\n",
              "    }\n",
              "\n",
              "    .dataframe thead th {\n",
              "        text-align: right;\n",
              "    }\n",
              "</style>\n",
              "<table border=\"1\" class=\"dataframe\">\n",
              "  <thead>\n",
              "    <tr style=\"text-align: right;\">\n",
              "      <th></th>\n",
              "      <th>id</th>\n",
              "      <th>title</th>\n",
              "      <th>type</th>\n",
              "      <th>genres</th>\n",
              "      <th>averageRating</th>\n",
              "      <th>numVotes</th>\n",
              "      <th>releaseYear</th>\n",
              "    </tr>\n",
              "  </thead>\n",
              "  <tbody>\n",
              "    <tr>\n",
              "      <th>count</th>\n",
              "      <td>1029446</td>\n",
              "      <td>1029446</td>\n",
              "      <td>1029446</td>\n",
              "      <td>928808</td>\n",
              "      <td>439071.000000</td>\n",
              "      <td>4.390710e+05</td>\n",
              "      <td>900924.000000</td>\n",
              "    </tr>\n",
              "    <tr>\n",
              "      <th>unique</th>\n",
              "      <td>1029446</td>\n",
              "      <td>877736</td>\n",
              "      <td>3</td>\n",
              "      <td>2061</td>\n",
              "      <td>NaN</td>\n",
              "      <td>NaN</td>\n",
              "      <td>NaN</td>\n",
              "    </tr>\n",
              "    <tr>\n",
              "      <th>top</th>\n",
              "      <td>tt0000009</td>\n",
              "      <td>Home</td>\n",
              "      <td>movie</td>\n",
              "      <td>Drama</td>\n",
              "      <td>NaN</td>\n",
              "      <td>NaN</td>\n",
              "      <td>NaN</td>\n",
              "    </tr>\n",
              "    <tr>\n",
              "      <th>freq</th>\n",
              "      <td>1</td>\n",
              "      <td>81</td>\n",
              "      <td>698393</td>\n",
              "      <td>162604</td>\n",
              "      <td>NaN</td>\n",
              "      <td>NaN</td>\n",
              "      <td>NaN</td>\n",
              "    </tr>\n",
              "    <tr>\n",
              "      <th>mean</th>\n",
              "      <td>NaN</td>\n",
              "      <td>NaN</td>\n",
              "      <td>NaN</td>\n",
              "      <td>NaN</td>\n",
              "      <td>6.363222</td>\n",
              "      <td>3.047632e+03</td>\n",
              "      <td>1998.267213</td>\n",
              "    </tr>\n",
              "    <tr>\n",
              "      <th>std</th>\n",
              "      <td>NaN</td>\n",
              "      <td>NaN</td>\n",
              "      <td>NaN</td>\n",
              "      <td>NaN</td>\n",
              "      <td>1.432179</td>\n",
              "      <td>3.266806e+04</td>\n",
              "      <td>27.054087</td>\n",
              "    </tr>\n",
              "    <tr>\n",
              "      <th>min</th>\n",
              "      <td>NaN</td>\n",
              "      <td>NaN</td>\n",
              "      <td>NaN</td>\n",
              "      <td>NaN</td>\n",
              "      <td>1.000000</td>\n",
              "      <td>5.000000e+00</td>\n",
              "      <td>1894.000000</td>\n",
              "    </tr>\n",
              "    <tr>\n",
              "      <th>25%</th>\n",
              "      <td>NaN</td>\n",
              "      <td>NaN</td>\n",
              "      <td>NaN</td>\n",
              "      <td>NaN</td>\n",
              "      <td>5.500000</td>\n",
              "      <td>1.700000e+01</td>\n",
              "      <td>1986.000000</td>\n",
              "    </tr>\n",
              "    <tr>\n",
              "      <th>50%</th>\n",
              "      <td>NaN</td>\n",
              "      <td>NaN</td>\n",
              "      <td>NaN</td>\n",
              "      <td>NaN</td>\n",
              "      <td>6.500000</td>\n",
              "      <td>5.200000e+01</td>\n",
              "      <td>2010.000000</td>\n",
              "    </tr>\n",
              "    <tr>\n",
              "      <th>75%</th>\n",
              "      <td>NaN</td>\n",
              "      <td>NaN</td>\n",
              "      <td>NaN</td>\n",
              "      <td>NaN</td>\n",
              "      <td>7.400000</td>\n",
              "      <td>2.600000e+02</td>\n",
              "      <td>2018.000000</td>\n",
              "    </tr>\n",
              "    <tr>\n",
              "      <th>max</th>\n",
              "      <td>NaN</td>\n",
              "      <td>NaN</td>\n",
              "      <td>NaN</td>\n",
              "      <td>NaN</td>\n",
              "      <td>10.000000</td>\n",
              "      <td>2.963270e+06</td>\n",
              "      <td>2031.000000</td>\n",
              "    </tr>\n",
              "  </tbody>\n",
              "</table>\n",
              "</div>\n",
              "    <div class=\"colab-df-buttons\">\n",
              "\n",
              "  <div class=\"colab-df-container\">\n",
              "    <button class=\"colab-df-convert\" onclick=\"convertToInteractive('df-dcdcd78e-1086-4728-ac4b-8c9b731ee94c')\"\n",
              "            title=\"Convert this dataframe to an interactive table.\"\n",
              "            style=\"display:none;\">\n",
              "\n",
              "  <svg xmlns=\"http://www.w3.org/2000/svg\" height=\"24px\" viewBox=\"0 -960 960 960\">\n",
              "    <path d=\"M120-120v-720h720v720H120Zm60-500h600v-160H180v160Zm220 220h160v-160H400v160Zm0 220h160v-160H400v160ZM180-400h160v-160H180v160Zm440 0h160v-160H620v160ZM180-180h160v-160H180v160Zm440 0h160v-160H620v160Z\"/>\n",
              "  </svg>\n",
              "    </button>\n",
              "\n",
              "  <style>\n",
              "    .colab-df-container {\n",
              "      display:flex;\n",
              "      gap: 12px;\n",
              "    }\n",
              "\n",
              "    .colab-df-convert {\n",
              "      background-color: #E8F0FE;\n",
              "      border: none;\n",
              "      border-radius: 50%;\n",
              "      cursor: pointer;\n",
              "      display: none;\n",
              "      fill: #1967D2;\n",
              "      height: 32px;\n",
              "      padding: 0 0 0 0;\n",
              "      width: 32px;\n",
              "    }\n",
              "\n",
              "    .colab-df-convert:hover {\n",
              "      background-color: #E2EBFA;\n",
              "      box-shadow: 0px 1px 2px rgba(60, 64, 67, 0.3), 0px 1px 3px 1px rgba(60, 64, 67, 0.15);\n",
              "      fill: #174EA6;\n",
              "    }\n",
              "\n",
              "    .colab-df-buttons div {\n",
              "      margin-bottom: 4px;\n",
              "    }\n",
              "\n",
              "    [theme=dark] .colab-df-convert {\n",
              "      background-color: #3B4455;\n",
              "      fill: #D2E3FC;\n",
              "    }\n",
              "\n",
              "    [theme=dark] .colab-df-convert:hover {\n",
              "      background-color: #434B5C;\n",
              "      box-shadow: 0px 1px 3px 1px rgba(0, 0, 0, 0.15);\n",
              "      filter: drop-shadow(0px 1px 2px rgba(0, 0, 0, 0.3));\n",
              "      fill: #FFFFFF;\n",
              "    }\n",
              "  </style>\n",
              "\n",
              "    <script>\n",
              "      const buttonEl =\n",
              "        document.querySelector('#df-dcdcd78e-1086-4728-ac4b-8c9b731ee94c button.colab-df-convert');\n",
              "      buttonEl.style.display =\n",
              "        google.colab.kernel.accessAllowed ? 'block' : 'none';\n",
              "\n",
              "      async function convertToInteractive(key) {\n",
              "        const element = document.querySelector('#df-dcdcd78e-1086-4728-ac4b-8c9b731ee94c');\n",
              "        const dataTable =\n",
              "          await google.colab.kernel.invokeFunction('convertToInteractive',\n",
              "                                                    [key], {});\n",
              "        if (!dataTable) return;\n",
              "\n",
              "        const docLinkHtml = 'Like what you see? Visit the ' +\n",
              "          '<a target=\"_blank\" href=https://colab.research.google.com/notebooks/data_table.ipynb>data table notebook</a>'\n",
              "          + ' to learn more about interactive tables.';\n",
              "        element.innerHTML = '';\n",
              "        dataTable['output_type'] = 'display_data';\n",
              "        await google.colab.output.renderOutput(dataTable, element);\n",
              "        const docLink = document.createElement('div');\n",
              "        docLink.innerHTML = docLinkHtml;\n",
              "        element.appendChild(docLink);\n",
              "      }\n",
              "    </script>\n",
              "  </div>\n",
              "\n",
              "\n",
              "<div id=\"df-f6325b84-c454-4aa7-a4ce-b33e837418bb\">\n",
              "  <button class=\"colab-df-quickchart\" onclick=\"quickchart('df-f6325b84-c454-4aa7-a4ce-b33e837418bb')\"\n",
              "            title=\"Suggest charts\"\n",
              "            style=\"display:none;\">\n",
              "\n",
              "<svg xmlns=\"http://www.w3.org/2000/svg\" height=\"24px\"viewBox=\"0 0 24 24\"\n",
              "     width=\"24px\">\n",
              "    <g>\n",
              "        <path d=\"M19 3H5c-1.1 0-2 .9-2 2v14c0 1.1.9 2 2 2h14c1.1 0 2-.9 2-2V5c0-1.1-.9-2-2-2zM9 17H7v-7h2v7zm4 0h-2V7h2v10zm4 0h-2v-4h2v4z\"/>\n",
              "    </g>\n",
              "</svg>\n",
              "  </button>\n",
              "\n",
              "<style>\n",
              "  .colab-df-quickchart {\n",
              "      --bg-color: #E8F0FE;\n",
              "      --fill-color: #1967D2;\n",
              "      --hover-bg-color: #E2EBFA;\n",
              "      --hover-fill-color: #174EA6;\n",
              "      --disabled-fill-color: #AAA;\n",
              "      --disabled-bg-color: #DDD;\n",
              "  }\n",
              "\n",
              "  [theme=dark] .colab-df-quickchart {\n",
              "      --bg-color: #3B4455;\n",
              "      --fill-color: #D2E3FC;\n",
              "      --hover-bg-color: #434B5C;\n",
              "      --hover-fill-color: #FFFFFF;\n",
              "      --disabled-bg-color: #3B4455;\n",
              "      --disabled-fill-color: #666;\n",
              "  }\n",
              "\n",
              "  .colab-df-quickchart {\n",
              "    background-color: var(--bg-color);\n",
              "    border: none;\n",
              "    border-radius: 50%;\n",
              "    cursor: pointer;\n",
              "    display: none;\n",
              "    fill: var(--fill-color);\n",
              "    height: 32px;\n",
              "    padding: 0;\n",
              "    width: 32px;\n",
              "  }\n",
              "\n",
              "  .colab-df-quickchart:hover {\n",
              "    background-color: var(--hover-bg-color);\n",
              "    box-shadow: 0 1px 2px rgba(60, 64, 67, 0.3), 0 1px 3px 1px rgba(60, 64, 67, 0.15);\n",
              "    fill: var(--button-hover-fill-color);\n",
              "  }\n",
              "\n",
              "  .colab-df-quickchart-complete:disabled,\n",
              "  .colab-df-quickchart-complete:disabled:hover {\n",
              "    background-color: var(--disabled-bg-color);\n",
              "    fill: var(--disabled-fill-color);\n",
              "    box-shadow: none;\n",
              "  }\n",
              "\n",
              "  .colab-df-spinner {\n",
              "    border: 2px solid var(--fill-color);\n",
              "    border-color: transparent;\n",
              "    border-bottom-color: var(--fill-color);\n",
              "    animation:\n",
              "      spin 1s steps(1) infinite;\n",
              "  }\n",
              "\n",
              "  @keyframes spin {\n",
              "    0% {\n",
              "      border-color: transparent;\n",
              "      border-bottom-color: var(--fill-color);\n",
              "      border-left-color: var(--fill-color);\n",
              "    }\n",
              "    20% {\n",
              "      border-color: transparent;\n",
              "      border-left-color: var(--fill-color);\n",
              "      border-top-color: var(--fill-color);\n",
              "    }\n",
              "    30% {\n",
              "      border-color: transparent;\n",
              "      border-left-color: var(--fill-color);\n",
              "      border-top-color: var(--fill-color);\n",
              "      border-right-color: var(--fill-color);\n",
              "    }\n",
              "    40% {\n",
              "      border-color: transparent;\n",
              "      border-right-color: var(--fill-color);\n",
              "      border-top-color: var(--fill-color);\n",
              "    }\n",
              "    60% {\n",
              "      border-color: transparent;\n",
              "      border-right-color: var(--fill-color);\n",
              "    }\n",
              "    80% {\n",
              "      border-color: transparent;\n",
              "      border-right-color: var(--fill-color);\n",
              "      border-bottom-color: var(--fill-color);\n",
              "    }\n",
              "    90% {\n",
              "      border-color: transparent;\n",
              "      border-bottom-color: var(--fill-color);\n",
              "    }\n",
              "  }\n",
              "</style>\n",
              "\n",
              "  <script>\n",
              "    async function quickchart(key) {\n",
              "      const quickchartButtonEl =\n",
              "        document.querySelector('#' + key + ' button');\n",
              "      quickchartButtonEl.disabled = true;  // To prevent multiple clicks.\n",
              "      quickchartButtonEl.classList.add('colab-df-spinner');\n",
              "      try {\n",
              "        const charts = await google.colab.kernel.invokeFunction(\n",
              "            'suggestCharts', [key], {});\n",
              "      } catch (error) {\n",
              "        console.error('Error during call to suggestCharts:', error);\n",
              "      }\n",
              "      quickchartButtonEl.classList.remove('colab-df-spinner');\n",
              "      quickchartButtonEl.classList.add('colab-df-quickchart-complete');\n",
              "    }\n",
              "    (() => {\n",
              "      let quickchartButtonEl =\n",
              "        document.querySelector('#df-f6325b84-c454-4aa7-a4ce-b33e837418bb button');\n",
              "      quickchartButtonEl.style.display =\n",
              "        google.colab.kernel.accessAllowed ? 'block' : 'none';\n",
              "    })();\n",
              "  </script>\n",
              "</div>\n",
              "\n",
              "    </div>\n",
              "  </div>\n"
            ],
            "application/vnd.google.colaboratory.intrinsic+json": {
              "type": "dataframe",
              "summary": "{\n  \"name\": \"df\",\n  \"rows\": 11,\n  \"fields\": [\n    {\n      \"column\": \"id\",\n      \"properties\": {\n        \"dtype\": \"category\",\n        \"num_unique_values\": 3,\n        \"samples\": [\n          \"1029446\",\n          \"tt0000009\",\n          \"1\"\n        ],\n        \"semantic_type\": \"\",\n        \"description\": \"\"\n      }\n    },\n    {\n      \"column\": \"title\",\n      \"properties\": {\n        \"dtype\": \"category\",\n        \"num_unique_values\": 4,\n        \"samples\": [\n          877736,\n          \"81\",\n          \"1029446\"\n        ],\n        \"semantic_type\": \"\",\n        \"description\": \"\"\n      }\n    },\n    {\n      \"column\": \"type\",\n      \"properties\": {\n        \"dtype\": \"category\",\n        \"num_unique_values\": 4,\n        \"samples\": [\n          3,\n          \"698393\",\n          \"1029446\"\n        ],\n        \"semantic_type\": \"\",\n        \"description\": \"\"\n      }\n    },\n    {\n      \"column\": \"genres\",\n      \"properties\": {\n        \"dtype\": \"category\",\n        \"num_unique_values\": 4,\n        \"samples\": [\n          2061,\n          \"162604\",\n          \"928808\"\n        ],\n        \"semantic_type\": \"\",\n        \"description\": \"\"\n      }\n    },\n    {\n      \"column\": \"averageRating\",\n      \"properties\": {\n        \"dtype\": \"number\",\n        \"std\": 155233.11163081022,\n        \"min\": 1.0,\n        \"max\": 439071.0,\n        \"num_unique_values\": 8,\n        \"samples\": [\n          6.36322234900506,\n          6.5,\n          439071.0\n        ],\n        \"semantic_type\": \"\",\n        \"description\": \"\"\n      }\n    },\n    {\n      \"column\": \"numVotes\",\n      \"properties\": {\n        \"dtype\": \"number\",\n        \"std\": 1034892.1734174557,\n        \"min\": 5.0,\n        \"max\": 2963270.0,\n        \"num_unique_values\": 8,\n        \"samples\": [\n          3047.63187274951,\n          52.0,\n          439071.0\n        ],\n        \"semantic_type\": \"\",\n        \"description\": \"\"\n      }\n    },\n    {\n      \"column\": \"releaseYear\",\n      \"properties\": {\n        \"dtype\": \"number\",\n        \"std\": 317921.18980761507,\n        \"min\": 27.05408748693289,\n        \"max\": 900924.0,\n        \"num_unique_values\": 8,\n        \"samples\": [\n          1998.2672134386473,\n          2010.0,\n          900924.0\n        ],\n        \"semantic_type\": \"\",\n        \"description\": \"\"\n      }\n    }\n  ]\n}"
            }
          },
          "metadata": {},
          "execution_count": 2
        }
      ]
    },
    {
      "cell_type": "markdown",
      "id": "0e7ff7e7-ee12-48c8-8996-46a7ac3fb850",
      "metadata": {
        "id": "0e7ff7e7-ee12-48c8-8996-46a7ac3fb850"
      },
      "source": [
        "Usaremos el método «shape» para verificar el tamaño del set de datos. La salida dara como resultado la cantidad de registros y columnas (registros, columnas):"
      ]
    },
    {
      "cell_type": "code",
      "execution_count": 3,
      "id": "bd1aef9f-8a3b-47f6-8da2-c7dc506164f8",
      "metadata": {
        "colab": {
          "base_uri": "https://localhost:8080/"
        },
        "id": "bd1aef9f-8a3b-47f6-8da2-c7dc506164f8",
        "outputId": "63a984c3-40b9-43ad-f40f-7aea97d01e78"
      },
      "outputs": [
        {
          "output_type": "execute_result",
          "data": {
            "text/plain": [
              "(1029446, 7)"
            ]
          },
          "metadata": {},
          "execution_count": 3
        }
      ],
      "source": [
        "df.shape"
      ]
    },
    {
      "cell_type": "markdown",
      "id": "7d10ef06-fb73-47a1-b803-42ac5df0a66d",
      "metadata": {
        "id": "7d10ef06-fb73-47a1-b803-42ac5df0a66d"
      },
      "source": [
        "Ahora imprimimos las primeras 5 filas y las ultimas 5, lo que nos permitirá tener una idea general de las características de esta tabla:"
      ]
    },
    {
      "cell_type": "code",
      "execution_count": 4,
      "id": "70a7e2ee-73d8-43f6-a3b9-58304c216aff",
      "metadata": {
        "colab": {
          "base_uri": "https://localhost:8080/",
          "height": 206
        },
        "id": "70a7e2ee-73d8-43f6-a3b9-58304c216aff",
        "outputId": "fc038459-f333-4608-a533-004fea02b73a"
      },
      "outputs": [
        {
          "output_type": "execute_result",
          "data": {
            "text/plain": [
              "          id                          title   type  \\\n",
              "0  tt0000009                     Miss Jerry  movie   \n",
              "1  tt0000147  The Corbett-Fitzsimmons Fight  movie   \n",
              "2  tt0000502                       Bohemios  movie   \n",
              "3  tt0000574    The Story of the Kelly Gang  movie   \n",
              "4  tt0000591               The Prodigal Son  movie   \n",
              "\n",
              "                         genres  averageRating  numVotes  releaseYear  \n",
              "0                       Romance            5.4     215.0       1894.0  \n",
              "1      Documentary, News, Sport            5.2     539.0       1897.0  \n",
              "2                           NaN            4.4      18.0       1905.0  \n",
              "3  Action, Adventure, Biography            6.0     939.0       1906.0  \n",
              "4                         Drama            5.7      28.0       1907.0  "
            ],
            "text/html": [
              "\n",
              "  <div id=\"df-a3b9dee8-a9bb-48fc-a7ac-11524f211ad2\" class=\"colab-df-container\">\n",
              "    <div>\n",
              "<style scoped>\n",
              "    .dataframe tbody tr th:only-of-type {\n",
              "        vertical-align: middle;\n",
              "    }\n",
              "\n",
              "    .dataframe tbody tr th {\n",
              "        vertical-align: top;\n",
              "    }\n",
              "\n",
              "    .dataframe thead th {\n",
              "        text-align: right;\n",
              "    }\n",
              "</style>\n",
              "<table border=\"1\" class=\"dataframe\">\n",
              "  <thead>\n",
              "    <tr style=\"text-align: right;\">\n",
              "      <th></th>\n",
              "      <th>id</th>\n",
              "      <th>title</th>\n",
              "      <th>type</th>\n",
              "      <th>genres</th>\n",
              "      <th>averageRating</th>\n",
              "      <th>numVotes</th>\n",
              "      <th>releaseYear</th>\n",
              "    </tr>\n",
              "  </thead>\n",
              "  <tbody>\n",
              "    <tr>\n",
              "      <th>0</th>\n",
              "      <td>tt0000009</td>\n",
              "      <td>Miss Jerry</td>\n",
              "      <td>movie</td>\n",
              "      <td>Romance</td>\n",
              "      <td>5.4</td>\n",
              "      <td>215.0</td>\n",
              "      <td>1894.0</td>\n",
              "    </tr>\n",
              "    <tr>\n",
              "      <th>1</th>\n",
              "      <td>tt0000147</td>\n",
              "      <td>The Corbett-Fitzsimmons Fight</td>\n",
              "      <td>movie</td>\n",
              "      <td>Documentary, News, Sport</td>\n",
              "      <td>5.2</td>\n",
              "      <td>539.0</td>\n",
              "      <td>1897.0</td>\n",
              "    </tr>\n",
              "    <tr>\n",
              "      <th>2</th>\n",
              "      <td>tt0000502</td>\n",
              "      <td>Bohemios</td>\n",
              "      <td>movie</td>\n",
              "      <td>NaN</td>\n",
              "      <td>4.4</td>\n",
              "      <td>18.0</td>\n",
              "      <td>1905.0</td>\n",
              "    </tr>\n",
              "    <tr>\n",
              "      <th>3</th>\n",
              "      <td>tt0000574</td>\n",
              "      <td>The Story of the Kelly Gang</td>\n",
              "      <td>movie</td>\n",
              "      <td>Action, Adventure, Biography</td>\n",
              "      <td>6.0</td>\n",
              "      <td>939.0</td>\n",
              "      <td>1906.0</td>\n",
              "    </tr>\n",
              "    <tr>\n",
              "      <th>4</th>\n",
              "      <td>tt0000591</td>\n",
              "      <td>The Prodigal Son</td>\n",
              "      <td>movie</td>\n",
              "      <td>Drama</td>\n",
              "      <td>5.7</td>\n",
              "      <td>28.0</td>\n",
              "      <td>1907.0</td>\n",
              "    </tr>\n",
              "  </tbody>\n",
              "</table>\n",
              "</div>\n",
              "    <div class=\"colab-df-buttons\">\n",
              "\n",
              "  <div class=\"colab-df-container\">\n",
              "    <button class=\"colab-df-convert\" onclick=\"convertToInteractive('df-a3b9dee8-a9bb-48fc-a7ac-11524f211ad2')\"\n",
              "            title=\"Convert this dataframe to an interactive table.\"\n",
              "            style=\"display:none;\">\n",
              "\n",
              "  <svg xmlns=\"http://www.w3.org/2000/svg\" height=\"24px\" viewBox=\"0 -960 960 960\">\n",
              "    <path d=\"M120-120v-720h720v720H120Zm60-500h600v-160H180v160Zm220 220h160v-160H400v160Zm0 220h160v-160H400v160ZM180-400h160v-160H180v160Zm440 0h160v-160H620v160ZM180-180h160v-160H180v160Zm440 0h160v-160H620v160Z\"/>\n",
              "  </svg>\n",
              "    </button>\n",
              "\n",
              "  <style>\n",
              "    .colab-df-container {\n",
              "      display:flex;\n",
              "      gap: 12px;\n",
              "    }\n",
              "\n",
              "    .colab-df-convert {\n",
              "      background-color: #E8F0FE;\n",
              "      border: none;\n",
              "      border-radius: 50%;\n",
              "      cursor: pointer;\n",
              "      display: none;\n",
              "      fill: #1967D2;\n",
              "      height: 32px;\n",
              "      padding: 0 0 0 0;\n",
              "      width: 32px;\n",
              "    }\n",
              "\n",
              "    .colab-df-convert:hover {\n",
              "      background-color: #E2EBFA;\n",
              "      box-shadow: 0px 1px 2px rgba(60, 64, 67, 0.3), 0px 1px 3px 1px rgba(60, 64, 67, 0.15);\n",
              "      fill: #174EA6;\n",
              "    }\n",
              "\n",
              "    .colab-df-buttons div {\n",
              "      margin-bottom: 4px;\n",
              "    }\n",
              "\n",
              "    [theme=dark] .colab-df-convert {\n",
              "      background-color: #3B4455;\n",
              "      fill: #D2E3FC;\n",
              "    }\n",
              "\n",
              "    [theme=dark] .colab-df-convert:hover {\n",
              "      background-color: #434B5C;\n",
              "      box-shadow: 0px 1px 3px 1px rgba(0, 0, 0, 0.15);\n",
              "      filter: drop-shadow(0px 1px 2px rgba(0, 0, 0, 0.3));\n",
              "      fill: #FFFFFF;\n",
              "    }\n",
              "  </style>\n",
              "\n",
              "    <script>\n",
              "      const buttonEl =\n",
              "        document.querySelector('#df-a3b9dee8-a9bb-48fc-a7ac-11524f211ad2 button.colab-df-convert');\n",
              "      buttonEl.style.display =\n",
              "        google.colab.kernel.accessAllowed ? 'block' : 'none';\n",
              "\n",
              "      async function convertToInteractive(key) {\n",
              "        const element = document.querySelector('#df-a3b9dee8-a9bb-48fc-a7ac-11524f211ad2');\n",
              "        const dataTable =\n",
              "          await google.colab.kernel.invokeFunction('convertToInteractive',\n",
              "                                                    [key], {});\n",
              "        if (!dataTable) return;\n",
              "\n",
              "        const docLinkHtml = 'Like what you see? Visit the ' +\n",
              "          '<a target=\"_blank\" href=https://colab.research.google.com/notebooks/data_table.ipynb>data table notebook</a>'\n",
              "          + ' to learn more about interactive tables.';\n",
              "        element.innerHTML = '';\n",
              "        dataTable['output_type'] = 'display_data';\n",
              "        await google.colab.output.renderOutput(dataTable, element);\n",
              "        const docLink = document.createElement('div');\n",
              "        docLink.innerHTML = docLinkHtml;\n",
              "        element.appendChild(docLink);\n",
              "      }\n",
              "    </script>\n",
              "  </div>\n",
              "\n",
              "\n",
              "<div id=\"df-fdcba64e-71c8-4ea4-a1ec-d01169de7004\">\n",
              "  <button class=\"colab-df-quickchart\" onclick=\"quickchart('df-fdcba64e-71c8-4ea4-a1ec-d01169de7004')\"\n",
              "            title=\"Suggest charts\"\n",
              "            style=\"display:none;\">\n",
              "\n",
              "<svg xmlns=\"http://www.w3.org/2000/svg\" height=\"24px\"viewBox=\"0 0 24 24\"\n",
              "     width=\"24px\">\n",
              "    <g>\n",
              "        <path d=\"M19 3H5c-1.1 0-2 .9-2 2v14c0 1.1.9 2 2 2h14c1.1 0 2-.9 2-2V5c0-1.1-.9-2-2-2zM9 17H7v-7h2v7zm4 0h-2V7h2v10zm4 0h-2v-4h2v4z\"/>\n",
              "    </g>\n",
              "</svg>\n",
              "  </button>\n",
              "\n",
              "<style>\n",
              "  .colab-df-quickchart {\n",
              "      --bg-color: #E8F0FE;\n",
              "      --fill-color: #1967D2;\n",
              "      --hover-bg-color: #E2EBFA;\n",
              "      --hover-fill-color: #174EA6;\n",
              "      --disabled-fill-color: #AAA;\n",
              "      --disabled-bg-color: #DDD;\n",
              "  }\n",
              "\n",
              "  [theme=dark] .colab-df-quickchart {\n",
              "      --bg-color: #3B4455;\n",
              "      --fill-color: #D2E3FC;\n",
              "      --hover-bg-color: #434B5C;\n",
              "      --hover-fill-color: #FFFFFF;\n",
              "      --disabled-bg-color: #3B4455;\n",
              "      --disabled-fill-color: #666;\n",
              "  }\n",
              "\n",
              "  .colab-df-quickchart {\n",
              "    background-color: var(--bg-color);\n",
              "    border: none;\n",
              "    border-radius: 50%;\n",
              "    cursor: pointer;\n",
              "    display: none;\n",
              "    fill: var(--fill-color);\n",
              "    height: 32px;\n",
              "    padding: 0;\n",
              "    width: 32px;\n",
              "  }\n",
              "\n",
              "  .colab-df-quickchart:hover {\n",
              "    background-color: var(--hover-bg-color);\n",
              "    box-shadow: 0 1px 2px rgba(60, 64, 67, 0.3), 0 1px 3px 1px rgba(60, 64, 67, 0.15);\n",
              "    fill: var(--button-hover-fill-color);\n",
              "  }\n",
              "\n",
              "  .colab-df-quickchart-complete:disabled,\n",
              "  .colab-df-quickchart-complete:disabled:hover {\n",
              "    background-color: var(--disabled-bg-color);\n",
              "    fill: var(--disabled-fill-color);\n",
              "    box-shadow: none;\n",
              "  }\n",
              "\n",
              "  .colab-df-spinner {\n",
              "    border: 2px solid var(--fill-color);\n",
              "    border-color: transparent;\n",
              "    border-bottom-color: var(--fill-color);\n",
              "    animation:\n",
              "      spin 1s steps(1) infinite;\n",
              "  }\n",
              "\n",
              "  @keyframes spin {\n",
              "    0% {\n",
              "      border-color: transparent;\n",
              "      border-bottom-color: var(--fill-color);\n",
              "      border-left-color: var(--fill-color);\n",
              "    }\n",
              "    20% {\n",
              "      border-color: transparent;\n",
              "      border-left-color: var(--fill-color);\n",
              "      border-top-color: var(--fill-color);\n",
              "    }\n",
              "    30% {\n",
              "      border-color: transparent;\n",
              "      border-left-color: var(--fill-color);\n",
              "      border-top-color: var(--fill-color);\n",
              "      border-right-color: var(--fill-color);\n",
              "    }\n",
              "    40% {\n",
              "      border-color: transparent;\n",
              "      border-right-color: var(--fill-color);\n",
              "      border-top-color: var(--fill-color);\n",
              "    }\n",
              "    60% {\n",
              "      border-color: transparent;\n",
              "      border-right-color: var(--fill-color);\n",
              "    }\n",
              "    80% {\n",
              "      border-color: transparent;\n",
              "      border-right-color: var(--fill-color);\n",
              "      border-bottom-color: var(--fill-color);\n",
              "    }\n",
              "    90% {\n",
              "      border-color: transparent;\n",
              "      border-bottom-color: var(--fill-color);\n",
              "    }\n",
              "  }\n",
              "</style>\n",
              "\n",
              "  <script>\n",
              "    async function quickchart(key) {\n",
              "      const quickchartButtonEl =\n",
              "        document.querySelector('#' + key + ' button');\n",
              "      quickchartButtonEl.disabled = true;  // To prevent multiple clicks.\n",
              "      quickchartButtonEl.classList.add('colab-df-spinner');\n",
              "      try {\n",
              "        const charts = await google.colab.kernel.invokeFunction(\n",
              "            'suggestCharts', [key], {});\n",
              "      } catch (error) {\n",
              "        console.error('Error during call to suggestCharts:', error);\n",
              "      }\n",
              "      quickchartButtonEl.classList.remove('colab-df-spinner');\n",
              "      quickchartButtonEl.classList.add('colab-df-quickchart-complete');\n",
              "    }\n",
              "    (() => {\n",
              "      let quickchartButtonEl =\n",
              "        document.querySelector('#df-fdcba64e-71c8-4ea4-a1ec-d01169de7004 button');\n",
              "      quickchartButtonEl.style.display =\n",
              "        google.colab.kernel.accessAllowed ? 'block' : 'none';\n",
              "    })();\n",
              "  </script>\n",
              "</div>\n",
              "\n",
              "    </div>\n",
              "  </div>\n"
            ],
            "application/vnd.google.colaboratory.intrinsic+json": {
              "type": "dataframe",
              "variable_name": "df"
            }
          },
          "metadata": {},
          "execution_count": 4
        }
      ],
      "source": [
        "df.head()"
      ]
    },
    {
      "cell_type": "code",
      "source": [
        "df.tail()"
      ],
      "metadata": {
        "id": "I1PxfE7cOHDf",
        "outputId": "3539fdcd-acd2-4988-a614-b12290d98558",
        "colab": {
          "base_uri": "https://localhost:8080/",
          "height": 206
        }
      },
      "id": "I1PxfE7cOHDf",
      "execution_count": 5,
      "outputs": [
        {
          "output_type": "execute_result",
          "data": {
            "text/plain": [
              "                 id                         title   type           genres  \\\n",
              "1029441  tt34605925                     Aitraaz 2  movie              NaN   \n",
              "1029442  tt34606028                  Tukar Takdir  movie  Drama, Thriller   \n",
              "1029443  tt34606054                    Regnmannen  movie            Drama   \n",
              "1029444  tt34606065                    Victor 303  movie            Drama   \n",
              "1029445  tt34606074  Lady and a Loser go to Vegas  movie         Thriller   \n",
              "\n",
              "         averageRating  numVotes  releaseYear  \n",
              "1029441            NaN       NaN          NaN  \n",
              "1029442            NaN       NaN          NaN  \n",
              "1029443            NaN       NaN          NaN  \n",
              "1029444            NaN       NaN       2025.0  \n",
              "1029445            NaN       NaN          NaN  "
            ],
            "text/html": [
              "\n",
              "  <div id=\"df-2c918949-6a21-4af2-b3b8-c58b43e9a058\" class=\"colab-df-container\">\n",
              "    <div>\n",
              "<style scoped>\n",
              "    .dataframe tbody tr th:only-of-type {\n",
              "        vertical-align: middle;\n",
              "    }\n",
              "\n",
              "    .dataframe tbody tr th {\n",
              "        vertical-align: top;\n",
              "    }\n",
              "\n",
              "    .dataframe thead th {\n",
              "        text-align: right;\n",
              "    }\n",
              "</style>\n",
              "<table border=\"1\" class=\"dataframe\">\n",
              "  <thead>\n",
              "    <tr style=\"text-align: right;\">\n",
              "      <th></th>\n",
              "      <th>id</th>\n",
              "      <th>title</th>\n",
              "      <th>type</th>\n",
              "      <th>genres</th>\n",
              "      <th>averageRating</th>\n",
              "      <th>numVotes</th>\n",
              "      <th>releaseYear</th>\n",
              "    </tr>\n",
              "  </thead>\n",
              "  <tbody>\n",
              "    <tr>\n",
              "      <th>1029441</th>\n",
              "      <td>tt34605925</td>\n",
              "      <td>Aitraaz 2</td>\n",
              "      <td>movie</td>\n",
              "      <td>NaN</td>\n",
              "      <td>NaN</td>\n",
              "      <td>NaN</td>\n",
              "      <td>NaN</td>\n",
              "    </tr>\n",
              "    <tr>\n",
              "      <th>1029442</th>\n",
              "      <td>tt34606028</td>\n",
              "      <td>Tukar Takdir</td>\n",
              "      <td>movie</td>\n",
              "      <td>Drama, Thriller</td>\n",
              "      <td>NaN</td>\n",
              "      <td>NaN</td>\n",
              "      <td>NaN</td>\n",
              "    </tr>\n",
              "    <tr>\n",
              "      <th>1029443</th>\n",
              "      <td>tt34606054</td>\n",
              "      <td>Regnmannen</td>\n",
              "      <td>movie</td>\n",
              "      <td>Drama</td>\n",
              "      <td>NaN</td>\n",
              "      <td>NaN</td>\n",
              "      <td>NaN</td>\n",
              "    </tr>\n",
              "    <tr>\n",
              "      <th>1029444</th>\n",
              "      <td>tt34606065</td>\n",
              "      <td>Victor 303</td>\n",
              "      <td>movie</td>\n",
              "      <td>Drama</td>\n",
              "      <td>NaN</td>\n",
              "      <td>NaN</td>\n",
              "      <td>2025.0</td>\n",
              "    </tr>\n",
              "    <tr>\n",
              "      <th>1029445</th>\n",
              "      <td>tt34606074</td>\n",
              "      <td>Lady and a Loser go to Vegas</td>\n",
              "      <td>movie</td>\n",
              "      <td>Thriller</td>\n",
              "      <td>NaN</td>\n",
              "      <td>NaN</td>\n",
              "      <td>NaN</td>\n",
              "    </tr>\n",
              "  </tbody>\n",
              "</table>\n",
              "</div>\n",
              "    <div class=\"colab-df-buttons\">\n",
              "\n",
              "  <div class=\"colab-df-container\">\n",
              "    <button class=\"colab-df-convert\" onclick=\"convertToInteractive('df-2c918949-6a21-4af2-b3b8-c58b43e9a058')\"\n",
              "            title=\"Convert this dataframe to an interactive table.\"\n",
              "            style=\"display:none;\">\n",
              "\n",
              "  <svg xmlns=\"http://www.w3.org/2000/svg\" height=\"24px\" viewBox=\"0 -960 960 960\">\n",
              "    <path d=\"M120-120v-720h720v720H120Zm60-500h600v-160H180v160Zm220 220h160v-160H400v160Zm0 220h160v-160H400v160ZM180-400h160v-160H180v160Zm440 0h160v-160H620v160ZM180-180h160v-160H180v160Zm440 0h160v-160H620v160Z\"/>\n",
              "  </svg>\n",
              "    </button>\n",
              "\n",
              "  <style>\n",
              "    .colab-df-container {\n",
              "      display:flex;\n",
              "      gap: 12px;\n",
              "    }\n",
              "\n",
              "    .colab-df-convert {\n",
              "      background-color: #E8F0FE;\n",
              "      border: none;\n",
              "      border-radius: 50%;\n",
              "      cursor: pointer;\n",
              "      display: none;\n",
              "      fill: #1967D2;\n",
              "      height: 32px;\n",
              "      padding: 0 0 0 0;\n",
              "      width: 32px;\n",
              "    }\n",
              "\n",
              "    .colab-df-convert:hover {\n",
              "      background-color: #E2EBFA;\n",
              "      box-shadow: 0px 1px 2px rgba(60, 64, 67, 0.3), 0px 1px 3px 1px rgba(60, 64, 67, 0.15);\n",
              "      fill: #174EA6;\n",
              "    }\n",
              "\n",
              "    .colab-df-buttons div {\n",
              "      margin-bottom: 4px;\n",
              "    }\n",
              "\n",
              "    [theme=dark] .colab-df-convert {\n",
              "      background-color: #3B4455;\n",
              "      fill: #D2E3FC;\n",
              "    }\n",
              "\n",
              "    [theme=dark] .colab-df-convert:hover {\n",
              "      background-color: #434B5C;\n",
              "      box-shadow: 0px 1px 3px 1px rgba(0, 0, 0, 0.15);\n",
              "      filter: drop-shadow(0px 1px 2px rgba(0, 0, 0, 0.3));\n",
              "      fill: #FFFFFF;\n",
              "    }\n",
              "  </style>\n",
              "\n",
              "    <script>\n",
              "      const buttonEl =\n",
              "        document.querySelector('#df-2c918949-6a21-4af2-b3b8-c58b43e9a058 button.colab-df-convert');\n",
              "      buttonEl.style.display =\n",
              "        google.colab.kernel.accessAllowed ? 'block' : 'none';\n",
              "\n",
              "      async function convertToInteractive(key) {\n",
              "        const element = document.querySelector('#df-2c918949-6a21-4af2-b3b8-c58b43e9a058');\n",
              "        const dataTable =\n",
              "          await google.colab.kernel.invokeFunction('convertToInteractive',\n",
              "                                                    [key], {});\n",
              "        if (!dataTable) return;\n",
              "\n",
              "        const docLinkHtml = 'Like what you see? Visit the ' +\n",
              "          '<a target=\"_blank\" href=https://colab.research.google.com/notebooks/data_table.ipynb>data table notebook</a>'\n",
              "          + ' to learn more about interactive tables.';\n",
              "        element.innerHTML = '';\n",
              "        dataTable['output_type'] = 'display_data';\n",
              "        await google.colab.output.renderOutput(dataTable, element);\n",
              "        const docLink = document.createElement('div');\n",
              "        docLink.innerHTML = docLinkHtml;\n",
              "        element.appendChild(docLink);\n",
              "      }\n",
              "    </script>\n",
              "  </div>\n",
              "\n",
              "\n",
              "<div id=\"df-fd63ba96-04fa-461d-be97-b8e7c917f27d\">\n",
              "  <button class=\"colab-df-quickchart\" onclick=\"quickchart('df-fd63ba96-04fa-461d-be97-b8e7c917f27d')\"\n",
              "            title=\"Suggest charts\"\n",
              "            style=\"display:none;\">\n",
              "\n",
              "<svg xmlns=\"http://www.w3.org/2000/svg\" height=\"24px\"viewBox=\"0 0 24 24\"\n",
              "     width=\"24px\">\n",
              "    <g>\n",
              "        <path d=\"M19 3H5c-1.1 0-2 .9-2 2v14c0 1.1.9 2 2 2h14c1.1 0 2-.9 2-2V5c0-1.1-.9-2-2-2zM9 17H7v-7h2v7zm4 0h-2V7h2v10zm4 0h-2v-4h2v4z\"/>\n",
              "    </g>\n",
              "</svg>\n",
              "  </button>\n",
              "\n",
              "<style>\n",
              "  .colab-df-quickchart {\n",
              "      --bg-color: #E8F0FE;\n",
              "      --fill-color: #1967D2;\n",
              "      --hover-bg-color: #E2EBFA;\n",
              "      --hover-fill-color: #174EA6;\n",
              "      --disabled-fill-color: #AAA;\n",
              "      --disabled-bg-color: #DDD;\n",
              "  }\n",
              "\n",
              "  [theme=dark] .colab-df-quickchart {\n",
              "      --bg-color: #3B4455;\n",
              "      --fill-color: #D2E3FC;\n",
              "      --hover-bg-color: #434B5C;\n",
              "      --hover-fill-color: #FFFFFF;\n",
              "      --disabled-bg-color: #3B4455;\n",
              "      --disabled-fill-color: #666;\n",
              "  }\n",
              "\n",
              "  .colab-df-quickchart {\n",
              "    background-color: var(--bg-color);\n",
              "    border: none;\n",
              "    border-radius: 50%;\n",
              "    cursor: pointer;\n",
              "    display: none;\n",
              "    fill: var(--fill-color);\n",
              "    height: 32px;\n",
              "    padding: 0;\n",
              "    width: 32px;\n",
              "  }\n",
              "\n",
              "  .colab-df-quickchart:hover {\n",
              "    background-color: var(--hover-bg-color);\n",
              "    box-shadow: 0 1px 2px rgba(60, 64, 67, 0.3), 0 1px 3px 1px rgba(60, 64, 67, 0.15);\n",
              "    fill: var(--button-hover-fill-color);\n",
              "  }\n",
              "\n",
              "  .colab-df-quickchart-complete:disabled,\n",
              "  .colab-df-quickchart-complete:disabled:hover {\n",
              "    background-color: var(--disabled-bg-color);\n",
              "    fill: var(--disabled-fill-color);\n",
              "    box-shadow: none;\n",
              "  }\n",
              "\n",
              "  .colab-df-spinner {\n",
              "    border: 2px solid var(--fill-color);\n",
              "    border-color: transparent;\n",
              "    border-bottom-color: var(--fill-color);\n",
              "    animation:\n",
              "      spin 1s steps(1) infinite;\n",
              "  }\n",
              "\n",
              "  @keyframes spin {\n",
              "    0% {\n",
              "      border-color: transparent;\n",
              "      border-bottom-color: var(--fill-color);\n",
              "      border-left-color: var(--fill-color);\n",
              "    }\n",
              "    20% {\n",
              "      border-color: transparent;\n",
              "      border-left-color: var(--fill-color);\n",
              "      border-top-color: var(--fill-color);\n",
              "    }\n",
              "    30% {\n",
              "      border-color: transparent;\n",
              "      border-left-color: var(--fill-color);\n",
              "      border-top-color: var(--fill-color);\n",
              "      border-right-color: var(--fill-color);\n",
              "    }\n",
              "    40% {\n",
              "      border-color: transparent;\n",
              "      border-right-color: var(--fill-color);\n",
              "      border-top-color: var(--fill-color);\n",
              "    }\n",
              "    60% {\n",
              "      border-color: transparent;\n",
              "      border-right-color: var(--fill-color);\n",
              "    }\n",
              "    80% {\n",
              "      border-color: transparent;\n",
              "      border-right-color: var(--fill-color);\n",
              "      border-bottom-color: var(--fill-color);\n",
              "    }\n",
              "    90% {\n",
              "      border-color: transparent;\n",
              "      border-bottom-color: var(--fill-color);\n",
              "    }\n",
              "  }\n",
              "</style>\n",
              "\n",
              "  <script>\n",
              "    async function quickchart(key) {\n",
              "      const quickchartButtonEl =\n",
              "        document.querySelector('#' + key + ' button');\n",
              "      quickchartButtonEl.disabled = true;  // To prevent multiple clicks.\n",
              "      quickchartButtonEl.classList.add('colab-df-spinner');\n",
              "      try {\n",
              "        const charts = await google.colab.kernel.invokeFunction(\n",
              "            'suggestCharts', [key], {});\n",
              "      } catch (error) {\n",
              "        console.error('Error during call to suggestCharts:', error);\n",
              "      }\n",
              "      quickchartButtonEl.classList.remove('colab-df-spinner');\n",
              "      quickchartButtonEl.classList.add('colab-df-quickchart-complete');\n",
              "    }\n",
              "    (() => {\n",
              "      let quickchartButtonEl =\n",
              "        document.querySelector('#df-fd63ba96-04fa-461d-be97-b8e7c917f27d button');\n",
              "      quickchartButtonEl.style.display =\n",
              "        google.colab.kernel.accessAllowed ? 'block' : 'none';\n",
              "    })();\n",
              "  </script>\n",
              "</div>\n",
              "\n",
              "    </div>\n",
              "  </div>\n"
            ],
            "application/vnd.google.colaboratory.intrinsic+json": {
              "type": "dataframe",
              "summary": "{\n  \"name\": \"df\",\n  \"rows\": 5,\n  \"fields\": [\n    {\n      \"column\": \"id\",\n      \"properties\": {\n        \"dtype\": \"string\",\n        \"num_unique_values\": 5,\n        \"samples\": [\n          \"tt34606028\",\n          \"tt34606074\",\n          \"tt34606054\"\n        ],\n        \"semantic_type\": \"\",\n        \"description\": \"\"\n      }\n    },\n    {\n      \"column\": \"title\",\n      \"properties\": {\n        \"dtype\": \"string\",\n        \"num_unique_values\": 5,\n        \"samples\": [\n          \"Tukar Takdir\",\n          \"Lady and a Loser go to Vegas\",\n          \"Regnmannen\"\n        ],\n        \"semantic_type\": \"\",\n        \"description\": \"\"\n      }\n    },\n    {\n      \"column\": \"type\",\n      \"properties\": {\n        \"dtype\": \"category\",\n        \"num_unique_values\": 1,\n        \"samples\": [\n          \"movie\"\n        ],\n        \"semantic_type\": \"\",\n        \"description\": \"\"\n      }\n    },\n    {\n      \"column\": \"genres\",\n      \"properties\": {\n        \"dtype\": \"string\",\n        \"num_unique_values\": 3,\n        \"samples\": [\n          \"Drama, Thriller\"\n        ],\n        \"semantic_type\": \"\",\n        \"description\": \"\"\n      }\n    },\n    {\n      \"column\": \"averageRating\",\n      \"properties\": {\n        \"dtype\": \"number\",\n        \"std\": null,\n        \"min\": null,\n        \"max\": null,\n        \"num_unique_values\": 0,\n        \"samples\": [],\n        \"semantic_type\": \"\",\n        \"description\": \"\"\n      }\n    },\n    {\n      \"column\": \"numVotes\",\n      \"properties\": {\n        \"dtype\": \"number\",\n        \"std\": null,\n        \"min\": null,\n        \"max\": null,\n        \"num_unique_values\": 0,\n        \"samples\": [],\n        \"semantic_type\": \"\",\n        \"description\": \"\"\n      }\n    },\n    {\n      \"column\": \"releaseYear\",\n      \"properties\": {\n        \"dtype\": \"number\",\n        \"std\": null,\n        \"min\": 2025.0,\n        \"max\": 2025.0,\n        \"num_unique_values\": 1,\n        \"samples\": [],\n        \"semantic_type\": \"\",\n        \"description\": \"\"\n      }\n    }\n  ]\n}"
            }
          },
          "metadata": {},
          "execution_count": 5
        }
      ]
    },
    {
      "cell_type": "markdown",
      "id": "632866b3-d7be-40d1-a864-d7508b63bc8f",
      "metadata": {
        "id": "632866b3-d7be-40d1-a864-d7508b63bc8f"
      },
      "source": [
        "Ahora necesitamos entender los tipos de variables que tenemos (es decir el tipo de dato usado para almacenar la información en cada columna de nuestra tabla). Esto lo podemos verificar usando el método «info()», que ademas nos dira cuantos registros no nulos tiene cada columna:"
      ]
    },
    {
      "cell_type": "code",
      "execution_count": 6,
      "id": "61bab467-bbc6-491f-ba84-80bdea049322",
      "metadata": {
        "colab": {
          "base_uri": "https://localhost:8080/"
        },
        "id": "61bab467-bbc6-491f-ba84-80bdea049322",
        "outputId": "dfa147eb-4c2f-4463-e6dd-da6f49f07a32"
      },
      "outputs": [
        {
          "output_type": "stream",
          "name": "stdout",
          "text": [
            "<class 'pandas.core.frame.DataFrame'>\n",
            "RangeIndex: 1029446 entries, 0 to 1029445\n",
            "Data columns (total 7 columns):\n",
            " #   Column         Non-Null Count    Dtype  \n",
            "---  ------         --------------    -----  \n",
            " 0   id             1029446 non-null  object \n",
            " 1   title          1029446 non-null  object \n",
            " 2   type           1029446 non-null  object \n",
            " 3   genres         928808 non-null   object \n",
            " 4   averageRating  439071 non-null   float64\n",
            " 5   numVotes       439071 non-null   float64\n",
            " 6   releaseYear    900924 non-null   float64\n",
            "dtypes: float64(3), object(4)\n",
            "memory usage: 55.0+ MB\n"
          ]
        }
      ],
      "source": [
        "df.info()"
      ]
    },
    {
      "cell_type": "markdown",
      "id": "0aae2ea8-5f48-4a7f-ac22-b516d88b2340",
      "metadata": {
        "id": "0aae2ea8-5f48-4a7f-ac22-b516d88b2340"
      },
      "source": [
        "<br>\n",
        "EL metodo info() nos devolvio la siguiente informacion:<br>\n",
        "<br>\n",
        "class='pandas.core.frame.DataFrame'<br>\n",
        "RangeIndex: 1029446 entries, 0 to 1029445<br>\n",
        "Data columns (total 7 columns):<br>\n",
        "\n",
        "|#|Column|Non-Null count|Dtype|\n",
        "|-----|-----|-----|-----|\n",
        "|0|id|1029446 non-null|object|\n",
        "|1|title|         1029444 non-null|  object |\n",
        "|2|  type|           1029446 non-null|  object |\n",
        "|3|  genres|         928808 non-null|   object |\n",
        "|4|  averageRating|  439071 non-null|   float64|\n",
        "|5|  numVotes| 439071 non-null|   float64|\n",
        "|6|   releaseYear|    900924 non-null|   float64|\n",
        "\n",
        "dtypes: float64(3), object(4)\n",
        "memory usage: 55.0+ MB\n",
        "\n",
        "\n",
        "Podemos ver que las columnas \"id\" y \"type\" tienen la misma cantidad de registros que el total por lo que no hay datos faltantes. La columna \"title\" tiene solamente dos registros faltantes, que habria que inspeccionar si no se trata de algun tipo de error. Luego las columnas de \"averageRating\" y \"numVotes\" contienen la misma cantidad de datos faltantes debido a que estan correlacionadas y un dato no menor es que menos de la mitad (42,65% para ser exactos) del dataset contiene datos de puntuacion y cantidad de votos. Por ultimo, las columnas de generos y año de lanzamiento tambien tienen datos faltantes. El porcentaje de datos faltantes por columna quedaria de la siguiente manera:\n",
        "\n",
        "| Columna       | % de datos faltantes |\n",
        "|---------------|:--------------------:|\n",
        "| id            | 0%     |\n",
        "| title         |< 0,01% |\n",
        "| type          | 0%     |\n",
        "| genres        | 9,77%  |\n",
        "| averageRating | 57,34% |\n",
        "| numVotes      | 57,34% |\n",
        "| releaseYear   | 12,48% |\n",
        "\n",
        "<br>"
      ]
    },
    {
      "cell_type": "markdown",
      "source": [
        "### **Graficos de distribucion**"
      ],
      "metadata": {
        "id": "mUh4FKy-Q0lw"
      },
      "id": "mUh4FKy-Q0lw"
    },
    {
      "cell_type": "markdown",
      "source": [
        "Por ultimo graficaremos las columnas para comprobar la distribucion de los datos de cada una.\n",
        "\n",
        "La columna genres todavia no se puede graficar porque contiene varios generos separados por coma en el mismo campo, por lo que se deberian separar en varias columnas. Asi que primero graficaremos la columna type con un grafico de torta"
      ],
      "metadata": {
        "id": "stlCN_pCRFae"
      },
      "id": "stlCN_pCRFae"
    },
    {
      "cell_type": "code",
      "source": [
        "# Contar la cantidad de registros por categoría en 'type'\n",
        "type_counts = df['type'].value_counts()\n",
        "\n",
        "# Obtener colores de una paleta de Seaborn\n",
        "colors = sns.color_palette(\"pastel\", len(type_counts))\n",
        "\n",
        "# Crear el gráfico de torta\n",
        "plt.figure(figsize=(8, 6))\n",
        "plt.pie(type_counts, labels=type_counts.index, autopct='%1.1f%%', startangle=90, colors=colors)\n",
        "plt.title('Distribución de Tipos de Producción')\n",
        "plt.show()"
      ],
      "metadata": {
        "id": "cu1xOxOfVT8D",
        "outputId": "240a5943-f94c-4d3f-9bab-51681fbe31a2",
        "colab": {
          "base_uri": "https://localhost:8080/",
          "height": 521
        }
      },
      "id": "cu1xOxOfVT8D",
      "execution_count": 7,
      "outputs": [
        {
          "output_type": "display_data",
          "data": {
            "text/plain": [
              "<Figure size 800x600 with 1 Axes>"
            ],
            "image/png": "[encoded data removed]"
          },
          "metadata": {}
        }
      ]
    },
    {
      "cell_type": "markdown",
      "source": [
        "Las columnas averageRating, numVotes y releaseYear seran graficadas mediante histogramas."
      ],
      "metadata": {
        "id": "qdoMq5kjQwUN"
      },
      "id": "qdoMq5kjQwUN"
    },
    {
      "cell_type": "code",
      "source": [
        "# Histograma para averageRating\n",
        "sns.histplot(df['averageRating'], bins=100, kde=True, color='blue')\n",
        "plt.xlabel('Puntaje promedio (averageRating)')\n",
        "plt.ylabel('Frecuencia')\n",
        "plt.title('Distribución de averageRating')\n",
        "plt.show()\n",
        "\n",
        "# Histograma para releaseYear\n",
        "sns.histplot(df['releaseYear'], bins=50, kde=True, color='blue')\n",
        "plt.xlabel('Año de lanzamiento (releaseYear)')\n",
        "plt.ylabel('Frecuencia')\n",
        "plt.title('Distribución de releaseYear')\n",
        "plt.show()\n",
        "\n",
        "# Histograma para numVotes\n",
        "sns.histplot(df['numVotes'], bins=50, kde=True, log_scale=True, color='purple')\n",
        "plt.xlabel('Cantidad de votos (log)')\n",
        "plt.ylabel('Frecuencia')\n",
        "plt.title('Distribución de numVotes (Escala Logarítmica)')\n",
        "plt.show()"
      ],
      "metadata": {
        "id": "SEetaTNUQ6ht",
        "outputId": "6c73b661-ed5f-418e-f8a2-c3216da03c85",
        "colab": {
          "base_uri": "https://localhost:8080/",
          "height": 1000
        }
      },
      "id": "SEetaTNUQ6ht",
      "execution_count": 8,
      "outputs": [
        {
          "output_type": "display_data",
          "data": {
            "text/plain": [
              "<Figure size 640x480 with 1 Axes>"
            ],
            "image/png": "[encoded data removed]"
          },
          "metadata": {}
        },
        {
          "output_type": "display_data",
          "data": {
            "text/plain": [
              "<Figure size 640x480 with 1 Axes>"
            ],
            "image/png": "[encoded data removed]"
          },
          "metadata": {}
        },
        {
          "output_type": "display_data",
          "data": {
            "text/plain": [
              "<Figure size 640x480 with 1 Axes>"
            ],
            "image/png": "[encoded data removed]"
          },
          "metadata": {}
        }
      ]
    },
    {
      "cell_type": "markdown",
      "source": [
        "Ahora representaremos los datos faltantes mediante un heatmap para poder visualizar si hay alguna relacion entre ellos."
      ],
      "metadata": {
        "id": "93GCoQJMQcWq"
      },
      "id": "93GCoQJMQcWq"
    },
    {
      "cell_type": "code",
      "source": [
        "plt.figure(figsize=(10, 6))\n",
        "sns.heatmap(df.isna(), cbar=False, cmap=\"viridis\", yticklabels=False)\n",
        "plt.title(\"Heatmap de Datos Faltantes\")\n",
        "plt.show()"
      ],
      "metadata": {
        "colab": {
          "base_uri": "https://localhost:8080/",
          "height": 545
        },
        "id": "-MlaeytCtipS",
        "outputId": "951e8304-ba83-4fa1-bcff-0d8f28df640b"
      },
      "id": "-MlaeytCtipS",
      "execution_count": 9,
      "outputs": [
        {
          "output_type": "display_data",
          "data": {
            "text/plain": [
              "<Figure size 1000x600 with 1 Axes>"
            ],
            "image/png": "[encoded data removed]"
          },
          "metadata": {}
        }
      ]
    },
    {
      "cell_type": "markdown",
      "source": [
        "En el gráfico podemos ver los datos faltantas representados en color amarillo.Haremos unas pruebas para entender las relaciones de estos datos faltantes. Como se habia dicho anteriormente averageRating y numVotes comparten datos faltantes porque estan correlacionados."
      ],
      "metadata": {
        "id": "PHlp4DNGu_AS"
      },
      "id": "PHlp4DNGu_AS"
    },
    {
      "cell_type": "markdown",
      "source": [
        "### **Filtrado de columnas**"
      ],
      "metadata": {
        "id": "0ZpyDQbbRVIc"
      },
      "id": "0ZpyDQbbRVIc"
    },
    {
      "cell_type": "markdown",
      "source": [
        "Primero filtraremos registros que solo tengan datos faltantes en releaseYear."
      ],
      "metadata": {
        "id": "o9HUFiXSRU6E"
      },
      "id": "o9HUFiXSRU6E"
    },
    {
      "cell_type": "code",
      "source": [
        "# Filtrar filas donde solamente 'releaseYear' tiene datos faltantes\n",
        "filtered_df = df[df['releaseYear'].isna() & df.drop(columns=['releaseYear']).notna().all(axis=1)]\n",
        "\n",
        "print(f\"Cantidad de registros filtrados: {filtered_df.shape[0]}\")\n",
        "print(filtered_df)"
      ],
      "metadata": {
        "colab": {
          "base_uri": "https://localhost:8080/"
        },
        "id": "ESBzA627v_AS",
        "outputId": "25c37f8a-5cec-48e6-92b4-ece9c2ab30c5"
      },
      "id": "ESBzA627v_AS",
      "execution_count": 10,
      "outputs": [
        {
          "output_type": "stream",
          "name": "stdout",
          "text": [
            "Cantidad de registros filtrados: 90\n",
            "                id                                              title  \\\n",
            "134590   tt0203086  Home-Coming in Granddaughter: The Cultural Com...   \n",
            "143229   tt0219466                                          90° South   \n",
            "172648   tt0278332                        The Adventures of Pinocchio   \n",
            "202588   tt0346172                      Zamaanat: And Justice for All   \n",
            "230072   tt0417131                                       Shubh Kaamna   \n",
            "...            ...                                                ...   \n",
            "971946   tt8325358                                          One Night   \n",
            "971955   tt8325484                                      Frankensitter   \n",
            "992999   tt9013026                               This Guest of Summer   \n",
            "1013261  tt9710724                        Bay Lawz: Stick to the Code   \n",
            "1016336  tt9823122                              Mannphodganj Ki Binny   \n",
            "\n",
            "             type                  genres  averageRating  numVotes  \\\n",
            "134590      movie             Documentary            7.4       6.0   \n",
            "143229      movie             Documentary            7.4     205.0   \n",
            "172648      movie      Animation, Fantasy            6.9      26.0   \n",
            "202588      movie  Drama, Family, Mystery            2.8     194.0   \n",
            "230072      movie           Comedy, Drama            6.5      27.0   \n",
            "...           ...                     ...            ...       ...   \n",
            "971946   tvSeries                   Drama            8.8       9.0   \n",
            "971955   tvSeries                  Comedy            8.9      13.0   \n",
            "992999      movie                  Horror            8.5     179.0   \n",
            "1013261     movie                   Drama            8.5      16.0   \n",
            "1016336  tvSeries  Comedy, Drama, Romance            5.3      20.0   \n",
            "\n",
            "         releaseYear  \n",
            "134590           NaN  \n",
            "143229           NaN  \n",
            "172648           NaN  \n",
            "202588           NaN  \n",
            "230072           NaN  \n",
            "...              ...  \n",
            "971946           NaN  \n",
            "971955           NaN  \n",
            "992999           NaN  \n",
            "1013261          NaN  \n",
            "1016336          NaN  \n",
            "\n",
            "[90 rows x 7 columns]\n"
          ]
        }
      ]
    },
    {
      "cell_type": "markdown",
      "source": [
        "<br>\n",
        "Ahora filtraremos registros con solo datos faltantes en la columna \"genres\"."
      ],
      "metadata": {
        "id": "Dpyiy2sZyaAS"
      },
      "id": "Dpyiy2sZyaAS"
    },
    {
      "cell_type": "code",
      "source": [
        "# Filtrar filas donde solo 'genres' tiene datos faltantes\n",
        "filtered_df = df[df['genres'].isna() & df.drop(columns=['genres']).notna().all(axis=1)]\n",
        "\n",
        "print(f\"Cantidad de registros filtrados: {filtered_df.shape[0]}\")\n",
        "print(filtered_df)"
      ],
      "metadata": {
        "colab": {
          "base_uri": "https://localhost:8080/"
        },
        "id": "GOQbjfYBylgR",
        "outputId": "a20a8691-2c97-48b8-9ad0-b4a2ddda6619"
      },
      "id": "GOQbjfYBylgR",
      "execution_count": 11,
      "outputs": [
        {
          "output_type": "stream",
          "name": "stdout",
          "text": [
            "Cantidad de registros filtrados: 14724\n",
            "                 id                                              title  \\\n",
            "2         tt0000502                                           Bohemios   \n",
            "14        tt0000862                                         Faldgruben   \n",
            "25        tt0001010  Protección de un convoy de víveres en el puent...   \n",
            "27        tt0001038                                 Sherlock Holmes VI   \n",
            "36        tt0001101                         Abraham Lincoln's Clemency   \n",
            "...             ...                                                ...   \n",
            "1022743  tt33704378                           Fugitives Caught on Tape   \n",
            "1022799  tt33710320                                       USAshveloebi   \n",
            "1026159  tt34278653                          She Taught Me Serendipity   \n",
            "1027432  tt34387986                                            Nilgoon   \n",
            "1027488  tt34388850                                           Vanchana   \n",
            "\n",
            "             type genres  averageRating  numVotes  releaseYear  \n",
            "2           movie    NaN            4.4      18.0       1905.0  \n",
            "14          movie    NaN            4.4      18.0       1909.0  \n",
            "25          movie    NaN            4.2      16.0       1909.0  \n",
            "27          movie    NaN            3.5      23.0       1910.0  \n",
            "36          movie    NaN            5.1      41.0       1910.0  \n",
            "...           ...    ...            ...       ...          ...  \n",
            "1022743  tvSeries    NaN            6.7       9.0       2024.0  \n",
            "1022799  tvSeries    NaN            8.8      27.0       2024.0  \n",
            "1026159     movie    NaN            5.9      12.0       2024.0  \n",
            "1027432     movie    NaN            2.6       9.0       2019.0  \n",
            "1027488     movie    NaN            8.0    1066.0       2024.0  \n",
            "\n",
            "[14724 rows x 7 columns]\n"
          ]
        }
      ]
    },
    {
      "cell_type": "markdown",
      "source": [
        "<br>\n",
        "Por ultimo filtraremos registros donde solo falten los datos de las columnas averageRating y numVotes.\n",
        "<br>"
      ],
      "metadata": {
        "id": "0CtMTvTk7mqM"
      },
      "id": "0CtMTvTk7mqM"
    },
    {
      "cell_type": "code",
      "source": [
        "# Filtrar filas donde solo 'averageRating' y 'numVotes' tienen datos faltantes\n",
        "filtered_df = df[\n",
        "    df[['averageRating', 'numVotes']].isna().all(axis=1)  # Ambas columnas tienen datos faltantes\n",
        "    & df.drop(columns=['averageRating', 'numVotes']).notna().all(axis=1)  # Las demás columnas no tienen datos faltantes\n",
        "]\n",
        "\n",
        "print(f\"Cantidad de registros filtrados: {filtered_df.shape[0]}\")\n",
        "print(filtered_df)\n",
        "\n",
        "# Histograma para ver la distribucion de registros sin puntuacion por año\n",
        "sns.histplot(filtered_df['releaseYear'], bins=100, kde=True, color='blue')\n",
        "plt.xlabel('Año de lanzamiento (releaseYear)')\n",
        "plt.ylabel('Frecuencia')\n",
        "plt.title('Distribución de releaseYear')\n",
        "plt.show()"
      ],
      "metadata": {
        "colab": {
          "base_uri": "https://localhost:8080/",
          "height": 958
        },
        "id": "YNOC2zgN7zjE",
        "outputId": "06b140c8-b9bf-4a71-96cc-c9c01cb5aab6"
      },
      "id": "YNOC2zgN7zjE",
      "execution_count": 12,
      "outputs": [
        {
          "output_type": "stream",
          "name": "stdout",
          "text": [
            "Cantidad de registros filtrados: 384938\n",
            "                 id                              title          type  \\\n",
            "31        tt0001059           O Terremoto de Benavente         movie   \n",
            "45        tt0001147  O Centenário da Guerra Peninsular         movie   \n",
            "47        tt0001163                   Corrida da Rampa         movie   \n",
            "58        tt0001341         Jarní sen starého mládence         movie   \n",
            "60        tt0001359                A Pesca do Bacalhau         movie   \n",
            "...             ...                                ...           ...   \n",
            "1029435  tt34604833            Halloween Mind Massacre         movie   \n",
            "1029436  tt34605760                         Souled Out  tvMiniSeries   \n",
            "1029438  tt34605792                        Nie przegap      tvSeries   \n",
            "1029440  tt34605805                    39 Derecede Ask         movie   \n",
            "1029444  tt34606065                         Victor 303         movie   \n",
            "\n",
            "                  genres  averageRating  numVotes  releaseYear  \n",
            "31           Documentary            NaN       NaN       1909.0  \n",
            "45           Documentary            NaN       NaN       1910.0  \n",
            "47           Documentary            NaN       NaN       1910.0  \n",
            "58                Comedy            NaN       NaN       1913.0  \n",
            "60           Documentary            NaN       NaN       1910.0  \n",
            "...                  ...            ...       ...          ...  \n",
            "1029435           Horror            NaN       NaN       2018.0  \n",
            "1029436         Thriller            NaN       NaN       2024.0  \n",
            "1029438            Short            NaN       NaN       2014.0  \n",
            "1029440  Comedy, Romance            NaN       NaN       2024.0  \n",
            "1029444            Drama            NaN       NaN       2025.0  \n",
            "\n",
            "[384938 rows x 7 columns]\n"
          ]
        },
        {
          "output_type": "display_data",
          "data": {
            "text/plain": [
              "<Figure size 640x480 with 1 Axes>"
            ],
            "image/png": "[encoded data removed]"
          },
          "metadata": {}
        }
      ]
    },
    {
      "cell_type": "markdown",
      "source": [
        "Comprobaremos cuantos registros no contienen datos en ninguna de las 4 columnas al mismo tiempo."
      ],
      "metadata": {
        "id": "LbNNUuiyOt3y"
      },
      "id": "LbNNUuiyOt3y"
    },
    {
      "cell_type": "code",
      "source": [
        "# Filtrar filas donde las 4 columnas tienen datos faltantes al mismo tiempo\n",
        "missing_data_rows = df[df[['genres', 'averageRating', 'numVotes', 'releaseYear']].isna().all(axis=1)]\n",
        "\n",
        "# Contar el número total de filas con datos faltantes en estas columnas\n",
        "missing_data_count = missing_data_rows.shape[0]\n",
        "\n",
        "print(f\"Cantidad total de filas con datos faltantes en 'genres', 'averageRating', 'numVotes' y 'releaseYear' al mismo tiempo: {missing_data_count}\")"
      ],
      "metadata": {
        "colab": {
          "base_uri": "https://localhost:8080/"
        },
        "id": "BB-qbZ00QYCh",
        "outputId": "f5111615-c3f8-401e-e3da-316a285abce4"
      },
      "id": "BB-qbZ00QYCh",
      "execution_count": 13,
      "outputs": [
        {
          "output_type": "stream",
          "name": "stdout",
          "text": [
            "Cantidad total de filas con datos faltantes en 'genres', 'averageRating', 'numVotes' y 'releaseYear' al mismo tiempo: 8889\n"
          ]
        }
      ]
    },
    {
      "cell_type": "markdown",
      "source": [
        "Nos da como resultados un total de 8889 registros (el 0,86% del total de registros). Se realizo una investigacion de estas producciones en la web de IMDb para entender los motivos de porque tienen tantos datos faltantes y algunas de ellas se trataban de producciones que todavia se encontraban en etapa de produccion o preproduccion, es decir que todavia no se habian estrenado. Haremos una ultima prueba, para observar la cantidad de registros en los que releaseYear sea mayor a 2024. Posiblemente estos registros no contengan calificacion si son producciones que aun no se estrenaron."
      ],
      "metadata": {
        "id": "9DgdZ0cs8Xau"
      },
      "id": "9DgdZ0cs8Xau"
    },
    {
      "cell_type": "code",
      "source": [
        "# Filtrar filas donde solo 'releaseYear' sea mayor a 2024\n",
        "filtered_df = df[df['releaseYear']> 2024]\n",
        "\n",
        "print(f\"Cantidad de registros filtrados: {filtered_df.shape[0]}\")\n",
        "print(filtered_df)\n",
        "\n",
        "# Histograma para ver la distribucion de registros sin puntuacion por año\n",
        "sns.histplot(filtered_df['releaseYear'], bins=100, kde=True, color='blue')\n",
        "plt.xlabel('Año de lanzamiento (releaseYear)')\n",
        "plt.ylabel('Frecuencia')\n",
        "plt.title('Distribución de releaseYear')\n",
        "plt.show()"
      ],
      "metadata": {
        "id": "88QWHplU82LI",
        "outputId": "52c47643-95ac-4fd4-9d9e-842914a435e8",
        "colab": {
          "base_uri": "https://localhost:8080/",
          "height": 958
        }
      },
      "id": "88QWHplU82LI",
      "execution_count": 14,
      "outputs": [
        {
          "output_type": "stream",
          "name": "stdout",
          "text": [
            "Cantidad de registros filtrados: 2665\n",
            "                 id                                       title   type  \\\n",
            "157234    tt0249596                The Incredible Shrinking Man  movie   \n",
            "206309    tt0353974                        Sanatta: The Silence  movie   \n",
            "233788    tt0427340                     Masters of the Universe  movie   \n",
            "255614    tt0498396                                   The Twits  movie   \n",
            "268718    tt0899043                                 The Amateur  movie   \n",
            "...             ...                                         ...    ...   \n",
            "1029384  tt34601063                              Keep the Fight  movie   \n",
            "1029393  tt34601156   Girl in the Garage: The Laura Cowan Story  movie   \n",
            "1029421  tt34602994  Binan Kouko Chikyuu Bouei-bu Eternal Love!  movie   \n",
            "1029428  tt34604047                                   Mahavatar  movie   \n",
            "1029444  tt34606065                                  Victor 303  movie   \n",
            "\n",
            "                               genres  averageRating  numVotes  releaseYear  \n",
            "157234         Action, Comedy, Sci-Fi            NaN       NaN       2025.0  \n",
            "206309                            NaN            NaN       NaN       2025.0  \n",
            "233788      Action, Adventure, Family            NaN       NaN       2026.0  \n",
            "255614   Adventure, Animation, Comedy            NaN       NaN       2025.0  \n",
            "268718               Action, Thriller            NaN       NaN       2025.0  \n",
            "...                               ...            ...       ...          ...  \n",
            "1029384                   Documentary            NaN       NaN       2025.0  \n",
            "1029393                           NaN            NaN       NaN       2025.0  \n",
            "1029421                     Animation            NaN       NaN       2025.0  \n",
            "1029428                           NaN            NaN       NaN       2026.0  \n",
            "1029444                         Drama            NaN       NaN       2025.0  \n",
            "\n",
            "[2665 rows x 7 columns]\n"
          ]
        },
        {
          "output_type": "display_data",
          "data": {
            "text/plain": [
              "<Figure size 640x480 with 1 Axes>"
            ],
            "image/png": "[encoded data removed]"
          },
          "metadata": {}
        }
      ]
    },
    {
      "cell_type": "markdown",
      "id": "ddc83bf7-1fe4-4e72-bf96-d8a410f73b8b",
      "metadata": {
        "id": "ddc83bf7-1fe4-4e72-bf96-d8a410f73b8b"
      },
      "source": [
        "## **Fase de limpieza**"
      ]
    },
    {
      "cell_type": "markdown",
      "id": "02c95fa3-3443-4a40-bbc5-e021c0f1a522",
      "metadata": {
        "id": "02c95fa3-3443-4a40-bbc5-e021c0f1a522"
      },
      "source": [
        "### **Datos faltantes**"
      ]
    },
    {
      "cell_type": "markdown",
      "id": "b64a3feb-8f9b-4c5d-82c9-012901747924",
      "metadata": {
        "jp-MarkdownHeadingCollapsed": true,
        "id": "b64a3feb-8f9b-4c5d-82c9-012901747924"
      },
      "source": [
        "#### **Columna title**"
      ]
    },
    {
      "cell_type": "markdown",
      "id": "9be7e041-f1c4-4b29-b62f-397d5eadb382",
      "metadata": {
        "id": "9be7e041-f1c4-4b29-b62f-397d5eadb382"
      },
      "source": [
        "Iniciaremos por averiguar cuales son esos dos registros que no tienen titulo:"
      ]
    },
    {
      "cell_type": "code",
      "execution_count": 15,
      "id": "fe8ebe22-e1a0-4da5-9318-bdb746793d77",
      "metadata": {
        "colab": {
          "base_uri": "https://localhost:8080/"
        },
        "id": "fe8ebe22-e1a0-4da5-9318-bdb746793d77",
        "outputId": "03a4d7aa-7ed9-4cc3-cf5e-615baeade41f"
      },
      "outputs": [
        {
          "output_type": "stream",
          "name": "stdout",
          "text": [
            "Empty DataFrame\n",
            "Columns: [id, title, type, genres, averageRating, numVotes, releaseYear]\n",
            "Index: []\n"
          ]
        }
      ],
      "source": [
        "# Filtrar filas donde 'title' es NaN o está vacío\n",
        "missing_title_rows = df[df['title'].isna()]\n",
        "\n",
        "# Mostrar las filas con datos faltantes en 'title'\n",
        "print(missing_title_rows)"
      ]
    },
    {
      "cell_type": "markdown",
      "id": "8ff965f0-a62c-4a05-98e6-3cc2007be48b",
      "metadata": {
        "id": "8ff965f0-a62c-4a05-98e6-3cc2007be48b"
      },
      "source": [
        "<br>\n",
        "Los dos registros en los que falta el titulo son los siguientes:\n",
        "\n",
        "|id|title|type|genres|averageRating|numVotes|releaseYear|\n",
        "|---------------|----|----|----|----|----|----|\n",
        "|tt17042812|NaN|movie|Thriller|NaN|NaN|2010|\n",
        "|tt5774076|NaN|movie|Action, Drama, Mystery|7.2|7.0|2015.0|\n",
        "\n",
        "Ambos registros que no contenia titulo era debido a que el titulo de las peliculas era \"None\" y era interpretado por Python como un dato nulo, por lo que, como solo eran dos registros se procedio a modificarlo manualmente quedando de la siguiente manera:\n",
        "\n",
        "|id|title|type|genres|averageRating|numVotes|releaseYear|\n",
        "|---------------|----|----|----|----|----|----|\n",
        "|tt17042812|\"No-ne\"|movie|Thriller|NaN|NaN|2010|\n",
        "|tt5774076|\"No-ne\"|movie|Action, Drama, Mystery|7.2|7.0|2015.0|"
      ]
    },
    {
      "cell_type": "markdown",
      "source": [
        "#### **Columna year**"
      ],
      "metadata": {
        "id": "I3ABCMzd9KmU"
      },
      "id": "I3ABCMzd9KmU"
    },
    {
      "cell_type": "markdown",
      "source": [
        "Como pudimos ver en la exploracion inicial, el 57,34% de los registros no tienen puntuacion por lo que trataremos de optimizar estos datos faltantes. La base de datos que estamos trabajando contiene datos de producciones con puntuaciones que realiza el publico. Teniendo en cuenta esto y sabiendo que nos encontramos en el año 2024, todas aquellas producciones despues de este año es probable que no tengan dato de puntuacion porque todavia no han sido estrenadas. Filtraremos las producciones con año de lanzamiento mayor a 2024 y luego filtraremos aquellas que no contenga datos de puntuacion para poder comparar entre si. Los registros que no tengan datos de puntuacion seran eliminados."
      ],
      "metadata": {
        "id": "vsw9fSe_9VIT"
      },
      "id": "vsw9fSe_9VIT"
    },
    {
      "cell_type": "code",
      "source": [
        "# Filtrar registros donde 'releaseYear' sea mayor a 2024\n",
        "filtered_df = df[df['releaseYear'] > 2024]\n",
        "\n",
        "print(f\"Cantidad de registros: {filtered_df.shape[0]}\")\n",
        "\n",
        "# Filtrar registros donde 'releaseYear' sea mayor a 2024 y 'averageRating' tenga valores faltantes\n",
        "filtered_df = df[(df['releaseYear'] > 2024) & (df['averageRating'].isna())]\n",
        "\n",
        "print(f\"Cantidad de registros mayor a 2024 sin puntuacion: {filtered_df.shape[0]}\")\n",
        "\n",
        "# Filtrar registros donde 'releaseYear' sea mayor a 2024 y 'averageRating' contenga datos\n",
        "filtered_df = df[(df['releaseYear'] > 2024) & (df['averageRating'].notna())]\n",
        "\n",
        "print(f\"Cantidad de registros mayor a 2024 con puntuacion: {filtered_df.shape[0]}\")\n",
        "print(filtered_df)"
      ],
      "metadata": {
        "colab": {
          "base_uri": "https://localhost:8080/"
        },
        "id": "BFb5Gt_3-5pW",
        "outputId": "700a95fa-e577-4629-8880-34b1a35298d1"
      },
      "id": "BFb5Gt_3-5pW",
      "execution_count": 16,
      "outputs": [
        {
          "output_type": "stream",
          "name": "stdout",
          "text": [
            "Cantidad de registros: 2665\n",
            "Cantidad de registros mayor a 2024 sin puntuacion: 2650\n",
            "Cantidad de registros mayor a 2024 con puntuacion: 15\n",
            "                id                                   title          type  \\\n",
            "396467  tt13334970          Ghost Story - An Abstract Film         movie   \n",
            "412842  tt13794972                                Dr. Gift         movie   \n",
            "492535  tt16275832                         Lost Recipes S1      tvSeries   \n",
            "496802  tt16450020                         Operation Dagon         movie   \n",
            "503521   tt1692249                            A Savior Red         movie   \n",
            "516466   tt1784356                     Bayen Haath Ka Khel         movie   \n",
            "550116  tt20202896               Sacred Grounds: Forbidden         movie   \n",
            "579176  tt21818782                                  Tehran         movie   \n",
            "633326   tt2633610                          Occupy Cannes!         movie   \n",
            "634763  tt26439870                  Sardi Ki Phusphusaahat         movie   \n",
            "757430  tt32832561  In Cold Water: The Shelter Bay Mystery  tvMiniSeries   \n",
            "902973   tt6353186                               Scar Lake         movie   \n",
            "947115   tt7584540                              The Format         movie   \n",
            "962148   tt8008948               Den of Thieves 2: Pantera         movie   \n",
            "964593   tt8084498                               Sebastian         movie   \n",
            "\n",
            "                              genres  averageRating  numVotes  releaseYear  \n",
            "396467                        Horror            7.9      14.0       2025.0  \n",
            "412842       Comedy, Horror, Mystery            7.1     213.0       2025.0  \n",
            "492535                   Documentary            7.7       9.0       2025.0  \n",
            "496802    Action, Adventure, Fantasy            6.6      29.0       2025.0  \n",
            "503521                      Thriller            7.6      40.0       2025.0  \n",
            "516466    Adventure, Comedy, Musical            7.1      17.0       2025.0  \n",
            "550116  Adventure, Thriller, Western            8.0       8.0       2025.0  \n",
            "579176              Action, Thriller            8.3      33.0       2025.0  \n",
            "633326                   Documentary            7.9     123.0       2025.0  \n",
            "634763                           NaN            8.9      11.0       2025.0  \n",
            "757430            Crime, Documentary            6.4      10.0       2025.0  \n",
            "902973                      Thriller            4.9      22.0       2025.0  \n",
            "947115                Comedy, Horror            8.7      55.0       2025.0  \n",
            "962148          Action, Crime, Drama           10.0       8.0       2025.0  \n",
            "964593                        Horror            7.7      43.0       2025.0  \n"
          ]
        }
      ]
    },
    {
      "cell_type": "markdown",
      "source": [
        "<br>\n",
        "Podemos observar que hay un total de 2665 registros con año mayor a 2024, y solamente 15 de ellos tienen puntuacion. Se reviso manualmente en la pagina de IMDb estos 15 registros y no tenian puntuaciones, por lo que podria ser un error. Por lo tanto se eliminaran el total de registros con año mayor a 2024."
      ],
      "metadata": {
        "id": "4Oy3_zUikAE9"
      },
      "id": "4Oy3_zUikAE9"
    },
    {
      "cell_type": "code",
      "source": [
        "# Eliminar registros donde 'releaseYear' sea mayor a 2024\n",
        "df.drop(df[df['releaseYear'] > 2024].index, inplace=True)\n",
        "\n",
        "print(f\"Cantidad de registros restantes: {df.shape[0]}\")"
      ],
      "metadata": {
        "colab": {
          "base_uri": "https://localhost:8080/"
        },
        "id": "2vTT1bdVlbu_",
        "outputId": "245ccdee-8ed9-45a9-a179-6440e30e132f"
      },
      "id": "2vTT1bdVlbu_",
      "execution_count": 17,
      "outputs": [
        {
          "output_type": "stream",
          "name": "stdout",
          "text": [
            "Cantidad de registros restantes: 1026781\n"
          ]
        }
      ]
    },
    {
      "cell_type": "markdown",
      "source": [
        "Cantidad de registros restantes: 1.026.781"
      ],
      "metadata": {
        "id": "sGAV6hg0Fn3t"
      },
      "id": "sGAV6hg0Fn3t"
    },
    {
      "cell_type": "markdown",
      "id": "d6be069c-a352-4b4f-a61a-99ce38e3be6a",
      "metadata": {
        "id": "d6be069c-a352-4b4f-a61a-99ce38e3be6a"
      },
      "source": [
        "### **Columnas genres + averageRating + releaseYear**"
      ]
    },
    {
      "cell_type": "markdown",
      "id": "b2ce5483-4976-4580-bcf9-1bb1a1fd8522",
      "metadata": {
        "id": "b2ce5483-4976-4580-bcf9-1bb1a1fd8522"
      },
      "source": [
        "Como vimos en el analisis descriptivo habia un total de 8889 registros que tenian datos faltantes en estas 4 columnas, procederemos a eliminarlos porque son demasiados datos que faltan, por lo que no sirven para el analisis que queremos realizar y lo haremos de la siguiente manera:"
      ]
    },
    {
      "cell_type": "code",
      "execution_count": 18,
      "id": "1959d99c-25fd-4b40-ba5f-5878440df9eb",
      "metadata": {
        "id": "1959d99c-25fd-4b40-ba5f-5878440df9eb",
        "colab": {
          "base_uri": "https://localhost:8080/"
        },
        "outputId": "e4f6e0ac-b664-4efc-a321-8abd36140e91"
      },
      "outputs": [
        {
          "output_type": "stream",
          "name": "stdout",
          "text": [
            "Cantidad de registros restantes: 1017892\n"
          ]
        }
      ],
      "source": [
        "# Eliminar estas filas del DataFrame original\n",
        "df = df.drop(missing_data_rows.index)\n",
        "print(f\"Cantidad de registros restantes: {df.shape[0]}\")\n",
        "\n",
        "# Variable filtro donde las 4 columnas tienen datos faltantes\n",
        "# al mismo tiempo (ver \"Filtrado de columnas\" en \"Analisis descriptivo\n",
        "# del dataset) \"\"\""
      ]
    },
    {
      "cell_type": "markdown",
      "source": [
        "\n",
        "Cantidad de registros restantes: 1.017.892"
      ],
      "metadata": {
        "id": "RvZqWWyyUe4k"
      },
      "id": "RvZqWWyyUe4k"
    },
    {
      "cell_type": "markdown",
      "id": "a861a29e-c364-4a01-ac9c-c65ee6b4a741",
      "metadata": {
        "jp-MarkdownHeadingCollapsed": true,
        "id": "a861a29e-c364-4a01-ac9c-c65ee6b4a741"
      },
      "source": [
        "### **Datos repetidos**"
      ]
    },
    {
      "cell_type": "markdown",
      "source": [
        "\n",
        "Lo siguiente sera ver la cantidad de registros duplicados. Para eso usaremos el método \"duplicated()\" de Pandas que devuelve una Serie con valores booleanos si hay datos duplicados. Tomaremos como referencia la columna \"id\", ya que los datos de esta columna deberian ser únicos."
      ],
      "metadata": {
        "id": "h7dEgPrFP4rh"
      },
      "id": "h7dEgPrFP4rh"
    },
    {
      "cell_type": "code",
      "execution_count": 19,
      "id": "9a27ca01-16b0-4c9d-82b7-b32545a52edf",
      "metadata": {
        "colab": {
          "base_uri": "https://localhost:8080/"
        },
        "id": "9a27ca01-16b0-4c9d-82b7-b32545a52edf",
        "outputId": "a569b8d9-e726-44f4-dfa2-bd09776c2d36"
      },
      "outputs": [
        {
          "output_type": "stream",
          "name": "stdout",
          "text": [
            "No se encontraron registros duplicados en la columna 'id'.\n"
          ]
        }
      ],
      "source": [
        "# Contar filas duplicadas en la columna 'id'\n",
        "num_duplicates = df.duplicated(subset='id').sum()\n",
        "\n",
        "if num_duplicates == 0:\n",
        "    print(\"No se encontraron registros duplicados en la columna 'id'.\")\n",
        "else:\n",
        "    print(f\"Se encontraron {num_duplicates} registros duplicados en la columna 'id'.\")\n",
        "\n",
        "    # Mostrar las filas duplicadas\n",
        "    duplicated_rows = df[df.duplicated(subset='id', keep=False)]\n",
        "    print(\"Filas duplicadas basadas en la columna 'id':\")\n",
        "    print(duplicated_rows)\n",
        "\n",
        "    # Eliminar duplicados y conservar la primera ocurrencia\n",
        "    df = df.drop_duplicates(subset='id', keep='first')"
      ]
    },
    {
      "cell_type": "markdown",
      "id": "e4f14488-2426-4cd3-94ed-27660da7ca92",
      "metadata": {
        "id": "e4f14488-2426-4cd3-94ed-27660da7ca92"
      },
      "source": [
        "\n",
        "No hay registros duplicados en este dataset."
      ]
    },
    {
      "cell_type": "markdown",
      "id": "3ced8c70-ea04-461e-bfd5-0e3c4f93f17e",
      "metadata": {
        "jp-MarkdownHeadingCollapsed": true,
        "id": "3ced8c70-ea04-461e-bfd5-0e3c4f93f17e"
      },
      "source": [
        "### **Manejo de outliers en variables numericas**"
      ]
    },
    {
      "cell_type": "code",
      "execution_count": 20,
      "id": "4199ee30-0f57-40f2-a6e0-1c7cdbe1a642",
      "metadata": {
        "colab": {
          "base_uri": "https://localhost:8080/",
          "height": 1000
        },
        "id": "4199ee30-0f57-40f2-a6e0-1c7cdbe1a642",
        "outputId": "fdae484b-fde3-4f5b-b61a-18549ae2dc48"
      },
      "outputs": [
        {
          "output_type": "display_data",
          "data": {
            "text/plain": [
              "<Figure size 800x1200 with 3 Axes>"
            ],
            "image/png": "[encoded data removed]"
          },
          "metadata": {}
        }
      ],
      "source": [
        "# Configurar el estilo de los gráficos\n",
        "sns.set(style=\"whitegrid\")\n",
        "\n",
        "# Crear un subplot para los 3 boxplots (en vertical)\n",
        "fig, axes = plt.subplots(3, 1, figsize=(8, 12))\n",
        "\n",
        "# Boxplot para 'averageRating' (horizontal)\n",
        "sns.boxplot(x=df['averageRating'], ax=axes[0], color='skyblue')\n",
        "axes[0].set_title('Boxplot de averageRating')\n",
        "axes[0].set_xlabel('averageRating')\n",
        "\n",
        "# Boxplot para 'numVotes' (horizontal)\n",
        "sns.boxplot(x=df['numVotes'], ax=axes[1], color='lightgreen')\n",
        "axes[1].set_title('Boxplot de numVotes')\n",
        "axes[1].set_xlabel('numVotes')\n",
        "\n",
        "# Boxplot para 'releaseYear' (horizontal)\n",
        "sns.boxplot(x=df['releaseYear'], ax=axes[2], color='lightcoral')\n",
        "axes[2].set_title('Boxplot de releaseYear')\n",
        "axes[2].set_xlabel('releaseYear')\n",
        "\n",
        "# Ajustar los espacios entre los subplots\n",
        "plt.tight_layout()\n",
        "\n",
        "# Mostrar los gráficos\n",
        "plt.show()"
      ]
    },
    {
      "cell_type": "markdown",
      "id": "a93ed3c2-e9d7-49b6-84a4-5d08bfecc5fb",
      "metadata": {
        "id": "a93ed3c2-e9d7-49b6-84a4-5d08bfecc5fb"
      },
      "source": [
        "<br>\n",
        "Teniendo en cuenta el tipo de variables numericas y de analisis que queremos realizar, no considero que los valores por fuera del rango de los bigotes del boxplot puedan ser tomados como outliers, por lo que los datos se conservaran."
      ]
    },
    {
      "cell_type": "markdown",
      "id": "7e7fa44f-d940-4946-8a33-92b2c95c991f",
      "metadata": {
        "id": "7e7fa44f-d940-4946-8a33-92b2c95c991f"
      },
      "source": [
        "### **Renombrando columnas de camelcase a snakecase**"
      ]
    },
    {
      "cell_type": "markdown",
      "id": "7233d5e5-7bc0-4667-935c-5f789ac22a2e",
      "metadata": {
        "id": "7233d5e5-7bc0-4667-935c-5f789ac22a2e"
      },
      "source": [
        "<br>\n",
        "Se renombraran algunos de los nomnbres de las columnas para que se adecuen al estilo snakecase porque es claro, estándar y ampliamente utilizado en SQL."
      ]
    },
    {
      "cell_type": "code",
      "execution_count": null,
      "id": "8bb847b0-0bc7-4d4e-bde5-b4c363850564",
      "metadata": {
        "id": "8bb847b0-0bc7-4d4e-bde5-b4c363850564"
      },
      "outputs": [],
      "source": [
        "# Renombrar columnas específicas\n",
        "df = df.rename(columns={\n",
        "    'averageRating': 'average_rating',\n",
        "    'numVotes': 'num_votes',\n",
        "    'releaseYear': 'release_year'\n",
        "})"
      ]
    },
    {
      "cell_type": "markdown",
      "id": "19ec8f4c-a315-4278-ac90-f4864e0a30ff",
      "metadata": {
        "id": "19ec8f4c-a315-4278-ac90-f4864e0a30ff"
      },
      "source": [
        "### **Division de la columna genero**"
      ]
    },
    {
      "cell_type": "markdown",
      "id": "34d89a7d-9845-4b01-83ff-570e317db829",
      "metadata": {
        "id": "34d89a7d-9845-4b01-83ff-570e317db829"
      },
      "source": [
        "La columna \"genres\" cuenta con hasta tres tipos de generos distintos en un mismo campo, si se lo dejara asi no podria ser utilizada para el analisis, por lo que se separara cada genero en una columna distinta. En caso de que una produccion cuente con menos de 3 generos, los campos quedaran vacios. Por ejemplo, un registro que cuenta con 2 generos solamente quedaria de la siguiente manera:\n",
        "\n",
        "|genre1|genre2|genre3|\n",
        "|-----|-----|-----|\n",
        "|Drama|Action|NaN|\n",
        "\n",
        "Los campos que no contengan genero tendran valores NaN, que es el valor nulo estandar de Pandas."
      ]
    },
    {
      "cell_type": "code",
      "execution_count": null,
      "id": "9d3d300e-d631-421e-88e2-9193e6917b44",
      "metadata": {
        "scrolled": true,
        "id": "9d3d300e-d631-421e-88e2-9193e6917b44"
      },
      "outputs": [],
      "source": [
        "# Dividir la columna 'género' en varias columnas\n",
        "genres_split = df['genres'].str.split(',', expand=True)\n",
        "\n",
        "# Renombrar las columnas resultantes\n",
        "genres_split.columns = [f'genre{i+1}' for i in range(genres_split.shape[1])]\n",
        "\n",
        "# Concatenar las nuevas columnas con el dataframe original\n",
        "df = pd.concat([df, genres_split], axis=1)\n",
        "\n",
        "# Eliminar la columna 'genres' original\n",
        "df = df.drop(columns=['genres'])"
      ]
    },
    {
      "cell_type": "markdown",
      "id": "625dbab3-b83f-4db5-8f13-c9983b94242a",
      "metadata": {
        "id": "625dbab3-b83f-4db5-8f13-c9983b94242a"
      },
      "source": [
        "### **Errores tipográficos en variables categóricas**"
      ]
    },
    {
      "cell_type": "markdown",
      "source": [
        "Para hacer una revision de las variables categoricas, primero vamos a ver la cantidad de generos unicos que hay y ordenarlos alfabeticamente, de esa forma tambien descartaremos que no haya algun error tipografico en alguno de ellos."
      ],
      "metadata": {
        "id": "iqJI1dEGjqIz"
      },
      "id": "iqJI1dEGjqIz"
    },
    {
      "cell_type": "code",
      "source": [
        "# Seleccionar las columnas de géneros\n",
        "genres_columns = ['genre1', 'genre2', 'genre3']\n",
        "\n",
        "# Combinar las columnas de géneros y eliminar valores nulos\n",
        "unique_genres = pd.unique(df[genres_columns].values.ravel())\n",
        "\n",
        "# Filtrar los valores no nulos\n",
        "unique_genres = [genre for genre in unique_genres if pd.notna(genre)]\n",
        "\n",
        "# Ordenar los géneros alfabéticamente\n",
        "unique_genres = sorted(unique_genres)\n",
        "\n",
        "# Mostrar la cantidad de géneros únicos y los géneros ordenados\n",
        "print(f\"Cantidad de géneros únicos: {len(unique_genres)}\")\n",
        "print(f\"Géneros únicos (ordenados): {unique_genres}\")"
      ],
      "metadata": {
        "id": "sEE_SrHlnF3_",
        "outputId": "fee70c7c-9cf4-4c9b-8dce-3e979271ac55",
        "colab": {
          "base_uri": "https://localhost:8080/"
        }
      },
      "id": "sEE_SrHlnF3_",
      "execution_count": null,
      "outputs": [
        {
          "output_type": "stream",
          "name": "stdout",
          "text": [
            "Cantidad de géneros únicos: 55\n",
            "Géneros únicos (ordenados): [' Adult', ' Adventure', ' Animation', ' Biography', ' Comedy', ' Crime', ' Documentary', ' Drama', ' Family', ' Fantasy', ' Film-Noir', ' Game-Show', ' History', ' Horror', ' Music', ' Musical', ' Mystery', ' News', ' Reality-TV', ' Romance', ' Sci-Fi', ' Short', ' Sport', ' Talk-Show', ' Thriller', ' War', ' Western', 'Action', 'Adult', 'Adventure', 'Animation', 'Biography', 'Comedy', 'Crime', 'Documentary', 'Drama', 'Family', 'Fantasy', 'Film-Noir', 'Game-Show', 'History', 'Horror', 'Music', 'Musical', 'Mystery', 'News', 'Reality-TV', 'Romance', 'Sci-Fi', 'Short', 'Sport', 'Talk-Show', 'Thriller', 'War', 'Western']\n"
          ]
        }
      ]
    },
    {
      "cell_type": "markdown",
      "source": [
        "Nos da como resultado 55 generos unicos. Revisando los resultados el error que se encontro es que hay generos repetidos debido a que uno contiene un espacio delante del genero y el otro no lo tiene, tomandolos como dos generos distintos. Primero eliminares el espacio en blanco delante de los generos, como tambien de todas las demas columnas de tipo texto y luego volveremos a ver la cantidad de generos.\n",
        "\n"
      ],
      "metadata": {
        "id": "asczFyYHpt4_"
      },
      "id": "asczFyYHpt4_"
    },
    {
      "cell_type": "code",
      "source": [
        "# Eliminar espacios en blanco solo en las columnas de tipo objeto (texto)\n",
        "df = df.apply(lambda col: col.str.strip() if col.dtype == 'object' else col)\n",
        "\n",
        "# Seleccionar las columnas de géneros\n",
        "genres_columns = ['genre1', 'genre2', 'genre3']\n",
        "\n",
        "# Combinar las columnas de géneros y eliminar valores nulos\n",
        "unique_genres = pd.unique(df[genres_columns].values.ravel())\n",
        "\n",
        "# Filtrar los valores no nulos\n",
        "unique_genres = [genre for genre in unique_genres if pd.notna(genre)]\n",
        "\n",
        "# Ordenar los géneros alfabéticamente\n",
        "unique_genres = sorted(unique_genres)\n",
        "\n",
        "# Mostrar la cantidad de géneros únicos y los géneros ordenados\n",
        "print(f\"Cantidad de géneros únicos: {len(unique_genres)}\")\n",
        "print(f\"Géneros únicos (ordenados): {unique_genres}\")"
      ],
      "metadata": {
        "id": "ZPvAmm0LqqtB",
        "outputId": "529aedbc-e433-4835-cd4d-dac46e88677f",
        "colab": {
          "base_uri": "https://localhost:8080/"
        }
      },
      "id": "ZPvAmm0LqqtB",
      "execution_count": null,
      "outputs": [
        {
          "output_type": "stream",
          "name": "stdout",
          "text": [
            "Cantidad de géneros únicos: 28\n",
            "Géneros únicos (ordenados): ['Action', 'Adult', 'Adventure', 'Animation', 'Biography', 'Comedy', 'Crime', 'Documentary', 'Drama', 'Family', 'Fantasy', 'Film-Noir', 'Game-Show', 'History', 'Horror', 'Music', 'Musical', 'Mystery', 'News', 'Reality-TV', 'Romance', 'Sci-Fi', 'Short', 'Sport', 'Talk-Show', 'Thriller', 'War', 'Western']\n"
          ]
        }
      ]
    },
    {
      "cell_type": "markdown",
      "source": [
        "Podemos ver que se redujo la cantidad de generos a practicamente la mitad, dandonos un total de 28 generos."
      ],
      "metadata": {
        "id": "UhJ0Hx14tYjc"
      },
      "id": "UhJ0Hx14tYjc"
    },
    {
      "cell_type": "markdown",
      "id": "fe25fc25-da16-4d41-9732-68acecef1a5d",
      "metadata": {
        "id": "fe25fc25-da16-4d41-9732-68acecef1a5d"
      },
      "source": [
        "### **Transformacion de columnas num_votes y year a tipo entero**"
      ]
    },
    {
      "cell_type": "markdown",
      "id": "d4c97f66-617a-4dae-85af-a88e75980edd",
      "metadata": {
        "id": "d4c97f66-617a-4dae-85af-a88e75980edd"
      },
      "source": [
        "Cuando Pandas hizo la transformacion del archivo csv a dataframe, las columnas num_votes y year contenian campos vacios por lo que Pandas los tomo como valores NaN que son de tipo flotante (float). Si una columna contiene números enteros y al menos un valor faltante, Pandas convertirá toda la columna al tipo float64, ya que un valor int no puede representar valores faltantes. Por lo que volveremos a convertir en entero estas columnas para que el tipo de dato coincida con la base de datos que tendremos creada en SQL."
      ]
    },
    {
      "cell_type": "code",
      "execution_count": null,
      "id": "f30e2f17-4944-47e9-8e16-96b17114c061",
      "metadata": {
        "id": "f30e2f17-4944-47e9-8e16-96b17114c061"
      },
      "outputs": [],
      "source": [
        "# Mantener las columnas con números enteros como enteros (excepto la columna average_rating que es flotante)\n",
        "for column in df.select_dtypes(include=['float64']).columns:\n",
        "    if column != \"average_rating\":\n",
        "        df[column] = df[column].fillna(0).astype('int')"
      ]
    },
    {
      "cell_type": "markdown",
      "source": [
        "### **Imputacion de datos faltantes**"
      ],
      "metadata": {
        "id": "8PzWluxeBAqk"
      },
      "id": "8PzWluxeBAqk"
    },
    {
      "cell_type": "code",
      "source": [],
      "metadata": {
        "id": "R-TrOYU2BGof"
      },
      "id": "R-TrOYU2BGof",
      "execution_count": null,
      "outputs": []
    }
  ],
  "metadata": {
    "kernelspec": {
      "display_name": "Python 3 (ipykernel)",
      "language": "python",
      "name": "python3"
    },
    "language_info": {
      "codemirror_mode": {
        "name": "ipython",
        "version": 3
      },
      "file_extension": ".py",
      "mimetype": "text/x-python",
      "name": "python",
      "nbconvert_exporter": "python",
      "pygments_lexer": "ipython3",
      "version": "3.12.7"
    },
    "colab": {
      "provenance": []
    }
  },
  "nbformat": 4,
  "nbformat_minor": 5
}