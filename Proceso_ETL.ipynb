{
  "nbformat": 4,
  "nbformat_minor": 0,
  "metadata": {
    "colab": {
      "provenance": [],
      "authorship_tag": "ABX9TyNUDSuq5ZVAPi31X9q/wJ9L",
      "include_colab_link": true
    },
    "kernelspec": {
      "name": "python3",
      "display_name": "Python 3"
    },
    "language_info": {
      "name": "python"
    }
  },
  "cells": [
    {
      "cell_type": "markdown",
      "metadata": {
        "id": "view-in-github",
        "colab_type": "text"
      },
      "source": [
        "<a href=\"https://colab.research.google.com/github/ipsilon7/Analisis-de-datos-de-IMDb/blob/main/Proceso_ETL.ipynb\" target=\"_parent\"><img src=\"https://colab.research.google.com/assets/colab-badge.svg\" alt=\"Open In Colab\"/></a>"
      ]
    },
    {
      "cell_type": "markdown",
      "source": [
        "## **Extraccion**"
      ],
      "metadata": {
        "id": "I3gMe6NdVADH"
      }
    },
    {
      "cell_type": "markdown",
      "source": [
        "La fuente de datos es de tipo estructurada (CSV). Al momento de cargar los datos se utiliza el parametro dtype para que la carga sea mas rapida (debido a que pandas no infiere automaticamente el tipo de dato), use menos memoria y las operaciones y filtrados de datos sean mas eficientes. Imprimimos los tipos de datos, para comprobar que se haya cargado correctamente, y el uso de memoria."
      ],
      "metadata": {
        "id": "XDMzKPJBJNOD"
      }
    },
    {
      "cell_type": "code",
      "source": [
        "import pandas as pd\n",
        "import matplotlib.pyplot as plt\n",
        "import numpy as np\n",
        "\n",
        "# URL del archivo en GitHub\n",
        "url = 'https://raw.githubusercontent.com/ipsilon7/Analisis-de-datos-de-IMDb/refs/heads/main/Database/IMDb%20database.csv'\n",
        "\n",
        "# Cargar el archivo CSV desde GitHub\n",
        "df = pd.read_csv(url, dtype={\n",
        "    \"id\": \"string\",\n",
        "    \"title\": \"string\",\n",
        "    \"type\": \"category\",\n",
        "    \"genres\": \"string\",\n",
        "    \"averageRating\": \"float32\",\n",
        "    \"numVotes\": \"Int32\", # Int32 con mayúscula para permitir NaN\n",
        "    \"releaseYear\": \"Int16\" # También permite NaN\n",
        "})\n",
        "\n",
        "print(df.dtypes)\n",
        "print(f\"Uso de memoria: {df.memory_usage(deep=True).sum() / (1024**2):.2f} MB\")"
      ],
      "metadata": {
        "colab": {
          "base_uri": "https://localhost:8080/"
        },
        "id": "2H2hXqCKVu4e",
        "outputId": "ba478945-4c89-4464-d8eb-0ffbff70f888"
      },
      "execution_count": 2,
      "outputs": [
        {
          "output_type": "stream",
          "name": "stdout",
          "text": [
            "id               string[python]\n",
            "title            string[python]\n",
            "type                   category\n",
            "genres           string[python]\n",
            "averageRating           float32\n",
            "numVotes                  Int32\n",
            "releaseYear               Int16\n",
            "dtype: object\n",
            "Uso de memoria: 219.42 MB\n"
          ]
        }
      ]
    },
    {
      "cell_type": "markdown",
      "source": [
        "Comprobaremos que el tamaño del dataset y la cantidad de columnas sea correcto y le daremos un vistazo rapido a los datos."
      ],
      "metadata": {
        "id": "RMaY3p5nK5x5"
      }
    },
    {
      "cell_type": "code",
      "source": [
        "# Mostramos las primeras 5 filas del DataFrame\n",
        "print(df.head())"
      ],
      "metadata": {
        "id": "Xqs680leK-Nz",
        "outputId": "c2415eb4-5e16-4a4b-cc44-a6ae6416fa5e",
        "colab": {
          "base_uri": "https://localhost:8080/"
        }
      },
      "execution_count": null,
      "outputs": [
        {
          "output_type": "stream",
          "name": "stdout",
          "text": [
            "          id                          title   type  \\\n",
            "0  tt0000009                     Miss Jerry  movie   \n",
            "1  tt0000147  The Corbett-Fitzsimmons Fight  movie   \n",
            "2  tt0000502                       Bohemios  movie   \n",
            "3  tt0000574    The Story of the Kelly Gang  movie   \n",
            "4  tt0000591               The Prodigal Son  movie   \n",
            "\n",
            "                         genres  averageRating  numVotes  releaseYear  \n",
            "0                       Romance            5.4       215         1894  \n",
            "1      Documentary, News, Sport            5.2       539         1897  \n",
            "2                          <NA>            4.4        18         1905  \n",
            "3  Action, Adventure, Biography            6.0       939         1906  \n",
            "4                         Drama            5.7        28         1907  \n"
          ]
        }
      ]
    },
    {
      "cell_type": "code",
      "source": [
        "# Mostramos las ultimas 5 filas del DataFrame\n",
        "print(df.tail())"
      ],
      "metadata": {
        "id": "qS1WobWBMXBi",
        "outputId": "fadf7259-8b80-4561-9f7f-bcc9f38c1c85",
        "colab": {
          "base_uri": "https://localhost:8080/"
        }
      },
      "execution_count": null,
      "outputs": [
        {
          "output_type": "stream",
          "name": "stdout",
          "text": [
            "                 id                         title   type           genres  \\\n",
            "1029441  tt34605925                     Aitraaz 2  movie             <NA>   \n",
            "1029442  tt34606028                  Tukar Takdir  movie  Drama, Thriller   \n",
            "1029443  tt34606054                    Regnmannen  movie            Drama   \n",
            "1029444  tt34606065                    Victor 303  movie            Drama   \n",
            "1029445  tt34606074  Lady and a Loser go to Vegas  movie         Thriller   \n",
            "\n",
            "         averageRating  numVotes  releaseYear  \n",
            "1029441            NaN      <NA>         <NA>  \n",
            "1029442            NaN      <NA>         <NA>  \n",
            "1029443            NaN      <NA>         <NA>  \n",
            "1029444            NaN      <NA>         2025  \n",
            "1029445            NaN      <NA>         <NA>  \n"
          ]
        }
      ]
    },
    {
      "cell_type": "code",
      "source": [
        "# Mostramos información general del DataFrame\n",
        "df.info()"
      ],
      "metadata": {
        "id": "hQMR6QJ_L1cB",
        "outputId": "63e4f77b-fdfa-48f9-d777-e8befbd5aedb",
        "colab": {
          "base_uri": "https://localhost:8080/"
        }
      },
      "execution_count": 2,
      "outputs": [
        {
          "output_type": "stream",
          "name": "stdout",
          "text": [
            "<class 'pandas.core.frame.DataFrame'>\n",
            "RangeIndex: 1029446 entries, 0 to 1029445\n",
            "Data columns (total 7 columns):\n",
            " #   Column         Non-Null Count    Dtype   \n",
            "---  ------         --------------    -----   \n",
            " 0   id             1029446 non-null  string  \n",
            " 1   title          1029446 non-null  string  \n",
            " 2   type           1029446 non-null  category\n",
            " 3   genres         928808 non-null   string  \n",
            " 4   averageRating  439071 non-null   float32 \n",
            " 5   numVotes       439071 non-null   Int32   \n",
            " 6   releaseYear    900924 non-null   Int16   \n",
            "dtypes: Int16(1), Int32(1), category(1), float32(1), string(3)\n",
            "memory usage: 36.3 MB\n"
          ]
        }
      ]
    },
    {
      "cell_type": "markdown",
      "source": [
        "\n",
        "El metodo info() nos devolvio la siguiente informacion:<br>\n",
        "<br>\n",
        "class='pandas.core.frame.DataFrame'<br>\n",
        "RangeIndex: 1029446 entries, 0 to 1029445<br>\n",
        "Data columns (total 7 columns):<br>\n",
        "\n",
        "|#|Column|Non-Null count|Dtype|\n",
        "|-----|-----|-----|-----|\n",
        "|0|id|1029446 non-null|string|\n",
        "|1|title|         1029446 non-null|string|\n",
        "|2|  type|           1029446 non-null|  category |\n",
        "|3|  genres|         928808 non-null|   string |\n",
        "|4|  averageRating|  439071 non-null|   float32|\n",
        "|5|  numVotes| 439071 non-null|   Int32|\n",
        "|6|   releaseYear|    900924 non-null|   Int16|\n",
        "\n",
        "dtypes: Int16(1), Int32(1), category(1), float32(1), string(3)\n",
        "memory usage: 36.3 MB\n",
        "\n",
        "<br>\n",
        "\n",
        "* Las columnas \"id\", \"type\" y \"title\" tienen la misma cantidad de registros que el total por lo que no hay datos faltantes.\n",
        "* Las columnas de \"averageRating\" y \"numVotes\" contienen la misma cantidad de datos faltantes por lo que puede indicar una correlacion entre estas variables y un dato no menor es que menos de la mitad (42,65% para ser exactos) del dataset contiene datos de puntuacion y cantidad de votos.\n",
        "* Por ultimo, las columnas de generos y año de lanzamiento tambien tienen datos faltantes.\n",
        "\n",
        "<br>\n",
        "\n",
        "El porcentaje de datos faltantes por columna quedaria de la siguiente manera:\n",
        "\n",
        "<br>\n",
        "\n",
        "| Columna       | % de datos faltantes |\n",
        "|---------------|:--------------------:|\n",
        "| id            | 0%     |\n",
        "| title         | 0%     |\n",
        "| type          | 0%     |\n",
        "| genres        | 9,77%  |\n",
        "| averageRating | 57,34% |\n",
        "| numVotes      | 57,34% |\n",
        "| releaseYear   | 12,48% |\n",
        "\n",
        "<br>"
      ],
      "metadata": {
        "id": "i5oBFBYHOvaM"
      }
    },
    {
      "cell_type": "code",
      "source": [
        "# Calcular el porcentaje de datos faltantes por columna\n",
        "missing_percentage = df.isnull().sum() * 100 / len(df)\n",
        "\n",
        "# Crear el gráfico de barras\n",
        "plt.figure(figsize=(5, 3))\n",
        "plt.bar(missing_percentage.index, missing_percentage.values)\n",
        "plt.title('Porcentaje de datos faltantes por columna')\n",
        "plt.xlabel('Columnas')\n",
        "plt.ylabel('Porcentaje de datos faltantes')\n",
        "plt.xticks(rotation=45, ha='right')  # Rotar las etiquetas del eje x para mejor legibilidad\n",
        "\n",
        "# Agregar etiquetas con porcentajes a las barras\n",
        "for i, v in enumerate(missing_percentage.values):\n",
        "    plt.text(i, v, f'{v:.1f}%', ha='center', va='bottom')\n",
        "\n",
        "# Mostrar el gráfico\n",
        "plt.show()\n",
        "print(missing_percentage)"
      ],
      "metadata": {
        "colab": {
          "base_uri": "https://localhost:8080/",
          "height": 540
        },
        "id": "OlRk6a_Zh3Ib",
        "outputId": "9b62f485-0cac-4f2f-80c6-790e593b7524"
      },
      "execution_count": 3,
      "outputs": [
        {
          "output_type": "display_data",
          "data": {
            "text/plain": [
              "<Figure size 500x300 with 1 Axes>"
            ],
            "image/png": "[encoded data removed]"
          },
          "metadata": {}
        },
        {
          "output_type": "stream",
          "name": "stdout",
          "text": [
            "id                0.000000\n",
            "title             0.000000\n",
            "type              0.000000\n",
            "genres            9.775938\n",
            "averageRating    57.348807\n",
            "numVotes         57.348807\n",
            "releaseYear      12.484579\n",
            "dtype: float64\n"
          ]
        }
      ]
    },
    {
      "cell_type": "code",
      "source": [
        "# Mostramos estadísticas descriptivas del DataFrame\n",
        "print(df.describe(include=\"all\")) # El parametro include=\"all\" incluye en las estadisticas columnas string y categoricas"
      ],
      "metadata": {
        "id": "q9Bbk3vkL3hR",
        "outputId": "0cfec10e-37ca-4c36-c0b9-a68a451ff2a7",
        "colab": {
          "base_uri": "https://localhost:8080/"
        }
      },
      "execution_count": 6,
      "outputs": [
        {
          "output_type": "stream",
          "name": "stdout",
          "text": [
            "               id    title     type  genres  averageRating      numVotes  \\\n",
            "count     1029446  1029446  1029446  928808  439071.000000      439071.0   \n",
            "unique    1029446   877736        3    2061            NaN          <NA>   \n",
            "top     tt0000009     Home    movie   Drama            NaN          <NA>   \n",
            "freq            1       81   698393  162604            NaN          <NA>   \n",
            "mean          NaN      NaN      NaN     NaN       6.363222   3047.631873   \n",
            "std           NaN      NaN      NaN     NaN       1.431767  32668.064801   \n",
            "min           NaN      NaN      NaN     NaN       1.000000           5.0   \n",
            "25%           NaN      NaN      NaN     NaN       5.500000          17.0   \n",
            "50%           NaN      NaN      NaN     NaN       6.500000          52.0   \n",
            "75%           NaN      NaN      NaN     NaN       7.400000         260.0   \n",
            "max           NaN      NaN      NaN     NaN      10.000000     2963270.0   \n",
            "\n",
            "        releaseYear  \n",
            "count      900924.0  \n",
            "unique         <NA>  \n",
            "top            <NA>  \n",
            "freq           <NA>  \n",
            "mean    1998.267213  \n",
            "std       27.054087  \n",
            "min          1894.0  \n",
            "25%          1986.0  \n",
            "50%          2010.0  \n",
            "75%          2018.0  \n",
            "max          2031.0  \n"
          ]
        }
      ]
    },
    {
      "cell_type": "code",
      "source": [],
      "metadata": {
        "id": "lrzeHDBsL4e7"
      },
      "execution_count": null,
      "outputs": []
    },
    {
      "cell_type": "markdown",
      "source": [
        "## **Transformacion**"
      ],
      "metadata": {
        "id": "G4s82rB8NpNJ"
      }
    },
    {
      "cell_type": "code",
      "source": [],
      "metadata": {
        "id": "Zj7MTWsgNrzq"
      },
      "execution_count": null,
      "outputs": []
    }
  ]
}