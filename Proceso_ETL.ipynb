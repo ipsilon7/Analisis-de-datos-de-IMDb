{
  "nbformat": 4,
  "nbformat_minor": 0,
  "metadata": {
    "colab": {
      "provenance": [],
      "authorship_tag": "ABX9TyMPik7cUwn7TTQ2Ni94pGmM",
      "include_colab_link": true
    },
    "kernelspec": {
      "name": "python3",
      "display_name": "Python 3"
    },
    "language_info": {
      "name": "python"
    }
  },
  "cells": [
    {
      "cell_type": "markdown",
      "metadata": {
        "id": "view-in-github",
        "colab_type": "text"
      },
      "source": [
        "<a href=\"https://colab.research.google.com/github/ipsilon7/Analisis-de-datos-de-IMDb/blob/main/Proceso_ETL.ipynb\" target=\"_parent\"><img src=\"https://colab.research.google.com/assets/colab-badge.svg\" alt=\"Open In Colab\"/></a>"
      ]
    },
    {
      "cell_type": "markdown",
      "source": [
        "## **Configuracion del entorno**"
      ],
      "metadata": {
        "id": "I3gMe6NdVADH"
      }
    },
    {
      "cell_type": "code",
      "source": [
        "import pandas as pd\n",
        "import matplotlib.pyplot as plt\n",
        "import seaborn as sns\n",
        "import numpy as np\n",
        "\n",
        "# URL del archivo en GitHub\n",
        "url = 'https://raw.githubusercontent.com/ipsilon7/Analisis-de-datos-de-IMDb/refs/heads/main/Database/IMDb%20database.csv'\n",
        "\n",
        "# Cargar el archivo CSV desde GitHub\n",
        "df = pd.read_csv(url)\n",
        "\n",
        "print(df.dtypes)\n",
        "print(f\"Uso de memoria: {df.memory_usage(deep=True).sum() / (1024**2):.2f} MB\")"
      ],
      "metadata": {
        "colab": {
          "base_uri": "https://localhost:8080/"
        },
        "id": "ZSWyXBTbVAoc",
        "outputId": "ad45e6b1-e563-48a7-d6b2-59f041608a92"
      },
      "execution_count": null,
      "outputs": [
        {
          "output_type": "stream",
          "name": "stdout",
          "text": [
            "id                object\n",
            "title             object\n",
            "type              object\n",
            "genres            object\n",
            "averageRating    float64\n",
            "numVotes         float64\n",
            "releaseYear      float64\n",
            "dtype: object\n",
            "Uso de memoria: 289.19 MB\n"
          ]
        }
      ]
    },
    {
      "cell_type": "markdown",
      "source": [
        "id                object\n",
        "<br>\n",
        "title             object\n",
        "<br>\n",
        "type              object<br>\n",
        "genres            object<br>\n",
        "averageRating    float64<br>\n",
        "numVotes         float64<br>\n",
        "releaseYear      float64<br>\n",
        "dtype: object<br>\n",
        "Uso de memoria: 289.19 MB"
      ],
      "metadata": {
        "id": "XhAvNfPrX68m"
      }
    },
    {
      "cell_type": "code",
      "source": [
        "import pandas as pd\n",
        "import matplotlib.pyplot as plt\n",
        "import seaborn as sns\n",
        "import numpy as np\n",
        "\n",
        "# URL del archivo en GitHub\n",
        "url = 'https://raw.githubusercontent.com/ipsilon7/Analisis-de-datos-de-IMDb/refs/heads/main/Database/IMDb%20database.csv'\n",
        "\n",
        "# Cargar el archivo CSV desde GitHub\n",
        "df = pd.read_csv(url, dtype={\n",
        "    \"id\": \"string\",\n",
        "    \"title\": \"string\",\n",
        "    \"type\": \"category\",\n",
        "    \"genres\": \"string\",\n",
        "    \"averageRating\": \"float32\",\n",
        "    \"numVotes\": \"Int32\",\n",
        "    \"releaseYear\": \"Int16\"\n",
        "}, storage_options={\"string_storage\": \"pyarrow\"})\n",
        "\n",
        "print(df.dtypes)\n",
        "print(f\"Uso de memoria: {df.memory_usage(deep=True).sum() / (1024**2):.2f} MB\")"
      ],
      "metadata": {
        "colab": {
          "base_uri": "https://localhost:8080/"
        },
        "id": "2H2hXqCKVu4e",
        "outputId": "ddef9a6f-2f35-49de-c373-64a75ef99336"
      },
      "execution_count": null,
      "outputs": [
        {
          "output_type": "stream",
          "name": "stdout",
          "text": [
            "id               string[python]\n",
            "title            string[python]\n",
            "type                   category\n",
            "genres           string[python]\n",
            "averageRating           float32\n",
            "numVotes                  Int32\n",
            "releaseYear               Int16\n",
            "dtype: object\n",
            "Uso de memoria: 219.42 MB\n"
          ]
        }
      ]
    }
  ]
}