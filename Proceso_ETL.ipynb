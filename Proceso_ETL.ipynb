{
  "nbformat": 4,
  "nbformat_minor": 0,
  "metadata": {
    "colab": {
      "provenance": [],
      "authorship_tag": "ABX9TyP83zTnAGIvz35cVuLxmfy8"
    },
    "kernelspec": {
      "name": "python3",
      "display_name": "Python 3"
    },
    "language_info": {
      "name": "python"
    }
  },
  "cells": [
    {
      "cell_type": "markdown",
      "source": [
        "Prueba\n"
      ],
      "metadata": {
        "id": "KdJy8uINEV-B"
      }
    },
    {
      "cell_type": "code",
      "source": [],
      "metadata": {
        "id": "vuI4k_cvEXM0"
      },
      "execution_count": null,
      "outputs": []
    }
  ]
}